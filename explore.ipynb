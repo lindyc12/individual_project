{
 "cells": [
  {
   "cell_type": "code",
   "execution_count": 1,
   "id": "2ccd4c0a",
   "metadata": {},
   "outputs": [],
   "source": [
    "# Mathematical functions\n",
    "import math\n",
    "from scipy import stats \n",
    "# Data manipulation\n",
    "import numpy as np\n",
    "import pandas as pd\n",
    "\n",
    "# Plotting and visualization\n",
    "import matplotlib.pyplot as plt\n",
    "import seaborn as sns\n",
    "\n",
    "# Missing data imputation\n",
    "from sklearn.experimental import enable_iterative_imputer\n",
    "from sklearn.impute import SimpleImputer, KNNImputer, IterativeImputer\n",
    "from io import StringIO \n",
    "\n",
    "# Categorical data encoding\n",
    "from sklearn.preprocessing import LabelEncoder\n",
    "\n",
    "# Train-test split and k-fold cross validation\n",
    "from sklearn.model_selection import train_test_split\n",
    "\n",
    "# Feature selection\n",
    "from sklearn.feature_selection import SelectKBest, chi2, mutual_info_classif\n",
    "\n",
    "\n",
    "# Classification algorithms\n",
    "from sklearn.tree import DecisionTreeClassifier\n",
    "from sklearn.ensemble import RandomForestClassifier, ExtraTreesClassifier\n",
    "\n",
    "# Model evaluation\n",
    "from sklearn import metrics\n",
    "from sklearn.metrics import f1_score\n",
    "from sklearn.tree import DecisionTreeClassifier, plot_tree, export_text\n",
    "# Explainable AI\n",
    "!pip install --quiet shap==0.39.0\n",
    "import shap\n",
    "\n",
    "# Warning suppression\n",
    "import warnings\n",
    "warnings.filterwarnings('ignore')\n",
    "import acquire\n",
    "import prepare "
   ]
  },
  {
   "cell_type": "markdown",
   "id": "d58e7285",
   "metadata": {},
   "source": [
    "Acquire CSV"
   ]
  },
  {
   "cell_type": "code",
   "execution_count": 2,
   "id": "82e105eb",
   "metadata": {},
   "outputs": [],
   "source": [
    "get = acquire.get_data()"
   ]
  },
  {
   "cell_type": "markdown",
   "id": "04bcae98",
   "metadata": {},
   "source": [
    "Prepare"
   ]
  },
  {
   "cell_type": "code",
   "execution_count": 3,
   "id": "191ccfd4",
   "metadata": {},
   "outputs": [
    {
     "data": {
      "text/html": [
       "<div>\n",
       "<style scoped>\n",
       "    .dataframe tbody tr th:only-of-type {\n",
       "        vertical-align: middle;\n",
       "    }\n",
       "\n",
       "    .dataframe tbody tr th {\n",
       "        vertical-align: top;\n",
       "    }\n",
       "\n",
       "    .dataframe thead th {\n",
       "        text-align: right;\n",
       "    }\n",
       "</style>\n",
       "<table border=\"1\" class=\"dataframe\">\n",
       "  <thead>\n",
       "    <tr style=\"text-align: right;\">\n",
       "      <th></th>\n",
       "      <th>Age_band_of_driver</th>\n",
       "      <th>Driving_experience</th>\n",
       "      <th>Area_accident_occured</th>\n",
       "      <th>Light_conditions</th>\n",
       "      <th>Number_of_vehicles_involved</th>\n",
       "      <th>Number_of_casualties</th>\n",
       "      <th>Casualty_class</th>\n",
       "      <th>Age_band_of_casualty</th>\n",
       "      <th>Casualty_severity</th>\n",
       "      <th>Fitness_of_casuality</th>\n",
       "      <th>...</th>\n",
       "      <th>Weather_conditions_Raining</th>\n",
       "      <th>Weather_conditions_Raining and Windy</th>\n",
       "      <th>Weather_conditions_Snow</th>\n",
       "      <th>Weather_conditions_Unknown</th>\n",
       "      <th>Weather_conditions_Windy</th>\n",
       "      <th>Sex_of_casualty_Male</th>\n",
       "      <th>Educational_level_Elementary</th>\n",
       "      <th>Educational_level_High School</th>\n",
       "      <th>Educational_level_High school</th>\n",
       "      <th>Educational_level_Junior High</th>\n",
       "    </tr>\n",
       "  </thead>\n",
       "  <tbody>\n",
       "    <tr>\n",
       "      <th>0</th>\n",
       "      <td>2</td>\n",
       "      <td>4</td>\n",
       "      <td>2</td>\n",
       "      <td>3</td>\n",
       "      <td>2</td>\n",
       "      <td>2</td>\n",
       "      <td>1</td>\n",
       "      <td>2</td>\n",
       "      <td>3.0</td>\n",
       "      <td>1</td>\n",
       "      <td>...</td>\n",
       "      <td>0</td>\n",
       "      <td>0</td>\n",
       "      <td>0</td>\n",
       "      <td>0</td>\n",
       "      <td>0</td>\n",
       "      <td>0</td>\n",
       "      <td>0</td>\n",
       "      <td>1</td>\n",
       "      <td>0</td>\n",
       "      <td>0</td>\n",
       "    </tr>\n",
       "    <tr>\n",
       "      <th>1</th>\n",
       "      <td>3</td>\n",
       "      <td>3</td>\n",
       "      <td>1</td>\n",
       "      <td>3</td>\n",
       "      <td>2</td>\n",
       "      <td>2</td>\n",
       "      <td>1</td>\n",
       "      <td>2</td>\n",
       "      <td>3.0</td>\n",
       "      <td>1</td>\n",
       "      <td>...</td>\n",
       "      <td>0</td>\n",
       "      <td>0</td>\n",
       "      <td>0</td>\n",
       "      <td>0</td>\n",
       "      <td>0</td>\n",
       "      <td>0</td>\n",
       "      <td>0</td>\n",
       "      <td>0</td>\n",
       "      <td>0</td>\n",
       "      <td>1</td>\n",
       "    </tr>\n",
       "    <tr>\n",
       "      <th>2</th>\n",
       "      <td>2</td>\n",
       "      <td>4</td>\n",
       "      <td>9</td>\n",
       "      <td>3</td>\n",
       "      <td>2</td>\n",
       "      <td>2</td>\n",
       "      <td>1</td>\n",
       "      <td>3</td>\n",
       "      <td>3.0</td>\n",
       "      <td>1</td>\n",
       "      <td>...</td>\n",
       "      <td>0</td>\n",
       "      <td>0</td>\n",
       "      <td>0</td>\n",
       "      <td>0</td>\n",
       "      <td>0</td>\n",
       "      <td>1</td>\n",
       "      <td>0</td>\n",
       "      <td>0</td>\n",
       "      <td>0</td>\n",
       "      <td>1</td>\n",
       "    </tr>\n",
       "    <tr>\n",
       "      <th>3</th>\n",
       "      <td>2</td>\n",
       "      <td>1</td>\n",
       "      <td>1</td>\n",
       "      <td>2</td>\n",
       "      <td>2</td>\n",
       "      <td>2</td>\n",
       "      <td>2</td>\n",
       "      <td>2</td>\n",
       "      <td>3.0</td>\n",
       "      <td>1</td>\n",
       "      <td>...</td>\n",
       "      <td>0</td>\n",
       "      <td>0</td>\n",
       "      <td>0</td>\n",
       "      <td>0</td>\n",
       "      <td>0</td>\n",
       "      <td>0</td>\n",
       "      <td>0</td>\n",
       "      <td>0</td>\n",
       "      <td>0</td>\n",
       "      <td>1</td>\n",
       "    </tr>\n",
       "    <tr>\n",
       "      <th>4</th>\n",
       "      <td>2</td>\n",
       "      <td>2</td>\n",
       "      <td>4</td>\n",
       "      <td>2</td>\n",
       "      <td>2</td>\n",
       "      <td>2</td>\n",
       "      <td>1</td>\n",
       "      <td>2</td>\n",
       "      <td>3.0</td>\n",
       "      <td>1</td>\n",
       "      <td>...</td>\n",
       "      <td>0</td>\n",
       "      <td>0</td>\n",
       "      <td>0</td>\n",
       "      <td>0</td>\n",
       "      <td>0</td>\n",
       "      <td>0</td>\n",
       "      <td>0</td>\n",
       "      <td>0</td>\n",
       "      <td>0</td>\n",
       "      <td>1</td>\n",
       "    </tr>\n",
       "  </tbody>\n",
       "</table>\n",
       "<p>5 rows × 26 columns</p>\n",
       "</div>"
      ],
      "text/plain": [
       "   Age_band_of_driver  Driving_experience  Area_accident_occured  \\\n",
       "0                   2                   4                      2   \n",
       "1                   3                   3                      1   \n",
       "2                   2                   4                      9   \n",
       "3                   2                   1                      1   \n",
       "4                   2                   2                      4   \n",
       "\n",
       "   Light_conditions  Number_of_vehicles_involved  Number_of_casualties  \\\n",
       "0                 3                            2                     2   \n",
       "1                 3                            2                     2   \n",
       "2                 3                            2                     2   \n",
       "3                 2                            2                     2   \n",
       "4                 2                            2                     2   \n",
       "\n",
       "   Casualty_class  Age_band_of_casualty  Casualty_severity  \\\n",
       "0               1                     2                3.0   \n",
       "1               1                     2                3.0   \n",
       "2               1                     3                3.0   \n",
       "3               2                     2                3.0   \n",
       "4               1                     2                3.0   \n",
       "\n",
       "   Fitness_of_casuality  ...  Weather_conditions_Raining  \\\n",
       "0                     1  ...                           0   \n",
       "1                     1  ...                           0   \n",
       "2                     1  ...                           0   \n",
       "3                     1  ...                           0   \n",
       "4                     1  ...                           0   \n",
       "\n",
       "   Weather_conditions_Raining and Windy  Weather_conditions_Snow  \\\n",
       "0                                     0                        0   \n",
       "1                                     0                        0   \n",
       "2                                     0                        0   \n",
       "3                                     0                        0   \n",
       "4                                     0                        0   \n",
       "\n",
       "   Weather_conditions_Unknown  Weather_conditions_Windy  Sex_of_casualty_Male  \\\n",
       "0                           0                         0                     0   \n",
       "1                           0                         0                     0   \n",
       "2                           0                         0                     1   \n",
       "3                           0                         0                     0   \n",
       "4                           0                         0                     0   \n",
       "\n",
       "   Educational_level_Elementary  Educational_level_High School  \\\n",
       "0                             0                              1   \n",
       "1                             0                              0   \n",
       "2                             0                              0   \n",
       "3                             0                              0   \n",
       "4                             0                              0   \n",
       "\n",
       "   Educational_level_High school  Educational_level_Junior High  \n",
       "0                              0                              0  \n",
       "1                              0                              1  \n",
       "2                              0                              1  \n",
       "3                              0                              1  \n",
       "4                              0                              1  \n",
       "\n",
       "[5 rows x 26 columns]"
      ]
     },
     "execution_count": 3,
     "metadata": {},
     "output_type": "execute_result"
    }
   ],
   "source": [
    "df = prepare.prep_data(get)\n",
    "df.head()"
   ]
  },
  {
   "cell_type": "code",
   "execution_count": null,
   "id": "1d0cab16",
   "metadata": {},
   "outputs": [],
   "source": [
    "df = prepare.prep_data(get)\n",
    "df.head()"
   ]
  },
  {
   "cell_type": "code",
   "execution_count": null,
   "id": "4fabb262",
   "metadata": {},
   "outputs": [],
   "source": [
    "df = df.replace('Unknown or other', 'other')\n",
    "df = df.replace('Darkness - lights unlit', 'Darkness - no lighting')\n",
    "df['Age_band_of_casualty'] = df['Age_band_of_casualty'].replace('5', 'Under 18')"
   ]
  },
  {
   "cell_type": "code",
   "execution_count": null,
   "id": "12e5e9aa",
   "metadata": {},
   "outputs": [],
   "source": [
    "df['baseline_prediction'] = np.where(df['Casualty_class']== 'Driver or rider', True, False)\n",
    "df.head()"
   ]
  },
  {
   "cell_type": "code",
   "execution_count": null,
   "id": "14e0f789",
   "metadata": {},
   "outputs": [],
   "source": [
    "df['baseline_prediction'] = np.where(df['Casualty_class']== 'Driver or rider', 1 , 2)"
   ]
  },
  {
   "cell_type": "code",
   "execution_count": null,
   "id": "32ee01d5",
   "metadata": {},
   "outputs": [],
   "source": [
    "df['baseline_prediction'].isnull().sum()"
   ]
  },
  {
   "cell_type": "code",
   "execution_count": null,
   "id": "b066305d",
   "metadata": {},
   "outputs": [],
   "source": [
    "df.Weather_conditions.value_counts()"
   ]
  },
  {
   "cell_type": "code",
   "execution_count": null,
   "id": "79a9b350",
   "metadata": {},
   "outputs": [],
   "source": [
    "df['Age_band_of_casualty '] = df.Age_band_of_casualty .map({'Under 18' : 1, '18-30' : 2, '31-50' : 3, 'Over 51' : 4})\n",
    "df['Age_band_of_driver'] = df.Age_band_of_driver.map({'Under 18' : 1, '18-30' : 2, '31-50' : 3, 'Over 51' : 4, 'Unknown' : 5})\n",
    "\n",
    "\n",
    "df['Casualty_class'] = df.Age_band_of_casualty.map({'Driver or rider' : 1, 'Pedestrian' : 2, 'Passenger' : 3, 'na' : 10})                                                          "
   ]
  },
  {
   "cell_type": "code",
   "execution_count": null,
   "id": "f29e14bb",
   "metadata": {},
   "outputs": [],
   "source": [
    "df.info()"
   ]
  },
  {
   "cell_type": "code",
   "execution_count": null,
   "id": "6d61b73c",
   "metadata": {},
   "outputs": [],
   "source": [
    "# number of duplicate rows\n",
    "duplicate = df[df.duplicated() == True]\n",
    "print(\"# of duplicate rows: {}\".format(len(duplicate)))"
   ]
  },
  {
   "cell_type": "code",
   "execution_count": null,
   "id": "ec690e09",
   "metadata": {},
   "outputs": [],
   "source": [
    "# number of missing values in columns\n",
    "df.Educational_level.value_counts()"
   ]
  },
  {
   "cell_type": "code",
   "execution_count": null,
   "id": "96335af2",
   "metadata": {},
   "outputs": [],
   "source": [
    "df['Work_of_casuality'].isnull().sum()"
   ]
  },
  {
   "cell_type": "code",
   "execution_count": null,
   "id": "5209e1c4",
   "metadata": {},
   "outputs": [],
   "source": [
    "get.Weather_conditions.value_counts()"
   ]
  },
  {
   "cell_type": "code",
   "execution_count": null,
   "id": "d93de697",
   "metadata": {},
   "outputs": [],
   "source": [
    "df.Driving_experience.value_counts()"
   ]
  },
  {
   "cell_type": "code",
   "execution_count": null,
   "id": "5ed83a19",
   "metadata": {},
   "outputs": [],
   "source": [
    "df.loc[2:4, ['baseline_prediction', \"Casualty_severity\", 'Fitness_of_casuality']]"
   ]
  },
  {
   "cell_type": "code",
   "execution_count": null,
   "id": "2c2088ec",
   "metadata": {},
   "outputs": [],
   "source": [
    "df.isnull().sum()"
   ]
  },
  {
   "cell_type": "code",
   "execution_count": null,
   "id": "6e97beb0",
   "metadata": {},
   "outputs": [],
   "source": [
    "def prop_imputer(df):\n",
    "    df_prop = df.copy(deep = True)\n",
    "    missing_cols = df_prop.isna().sum()[df_prop.isna().sum() != 0].index.tolist()\n",
    "    for col in missing_cols:\n",
    "        values_col = df_prop[col].value_counts(normalize = True).index.tolist()\n",
    "        probabilities_col = df_prop[col].value_counts(normalize = True).values.tolist()\n",
    "        df_prop[col] = df_prop[col].fillna(pd.Series(np.random.choice(values_col, p = probabilities_col, size = len(df))))\n",
    "    return df_prop"
   ]
  },
  {
   "cell_type": "code",
   "execution_count": null,
   "id": "f943e360",
   "metadata": {},
   "outputs": [],
   "source": [
    "df_imp = prop_imputer(df)"
   ]
  },
  {
   "cell_type": "code",
   "execution_count": null,
   "id": "ac98bfff",
   "metadata": {},
   "outputs": [],
   "source": [
    "df = df_imp\n",
    "df.isnull().sum()"
   ]
  },
  {
   "cell_type": "code",
   "execution_count": 12,
   "id": "c623f5a4",
   "metadata": {},
   "outputs": [
    {
     "name": "stdout",
     "output_type": "stream",
     "text": [
      "<class 'pandas.core.frame.DataFrame'>\n",
      "RangeIndex: 12316 entries, 0 to 12315\n",
      "Data columns (total 26 columns):\n",
      " #   Column                                Non-Null Count  Dtype  \n",
      "---  ------                                --------------  -----  \n",
      " 0   Age_band_of_driver                    12316 non-null  int64  \n",
      " 1   Driving_experience                    12316 non-null  int64  \n",
      " 2   Area_accident_occured                 12316 non-null  int64  \n",
      " 3   Light_conditions                      12316 non-null  int64  \n",
      " 4   Number_of_vehicles_involved           12316 non-null  int64  \n",
      " 5   Number_of_casualties                  12316 non-null  int64  \n",
      " 6   Casualty_class                        12316 non-null  int64  \n",
      " 7   Age_band_of_casualty                  12316 non-null  int64  \n",
      " 8   Casualty_severity                     12316 non-null  float64\n",
      " 9   Fitness_of_casuality                  12316 non-null  int64  \n",
      " 10  Accident_severity                     12316 non-null  int64  \n",
      " 11  Sex_of_driver_Male                    12316 non-null  uint8  \n",
      " 12  Sex_of_driver_Unknown                 12316 non-null  uint8  \n",
      " 13  Weather_conditions_Fog or mist        12316 non-null  uint8  \n",
      " 14  Weather_conditions_Normal             12316 non-null  uint8  \n",
      " 15  Weather_conditions_Other              12316 non-null  uint8  \n",
      " 16  Weather_conditions_Raining            12316 non-null  uint8  \n",
      " 17  Weather_conditions_Raining and Windy  12316 non-null  uint8  \n",
      " 18  Weather_conditions_Snow               12316 non-null  uint8  \n",
      " 19  Weather_conditions_Unknown            12316 non-null  uint8  \n",
      " 20  Weather_conditions_Windy              12316 non-null  uint8  \n",
      " 21  Sex_of_casualty_Male                  12316 non-null  uint8  \n",
      " 22  Educational_level_Elementary          12316 non-null  uint8  \n",
      " 23  Educational_level_High School         12316 non-null  uint8  \n",
      " 24  Educational_level_High school         12316 non-null  uint8  \n",
      " 25  Educational_level_Junior High         12316 non-null  uint8  \n",
      "dtypes: float64(1), int64(10), uint8(15)\n",
      "memory usage: 1.2 MB\n"
     ]
    }
   ],
   "source": [
    "df.info()"
   ]
  },
  {
   "cell_type": "code",
   "execution_count": null,
   "id": "12b2e03b",
   "metadata": {},
   "outputs": [],
   "source": [
    "# encode\n",
    "#df['Age_band_of_driver'] = df.Age_band_of_driver.map({'Under 18' : 1, '18-30' : 2, '31-50' : 3, 'Over 51' : 4, 'Unknown' : 10})\n",
    "#df['Educational_level'] = df.Educational_level.map({'Illiterate' : 1, 'Writing & reading' : 2, 'Elementary school' : 3, 'Junior high school' : 4, 'High school' : 5, 'Above high school' : 6, 'Unknown' : 10})\n",
    "df['Driving_experience'] = df.Driving_experience.map({'Below 1yr' : 1, '1-2yr' : 2, '2-5yr' : 3, '5-10yr' : 4, 'Above 10yr' : 5, 'No Licence' : 0, 'unknown' : 10})\n",
    "df['Light_conditions'] = df.Light_conditions.map({'Darkness - no lighting' : 1, 'Darkness - lights lit' : 2, 'Daylight' : 3})\n",
    "df['Age_band_of_casualty'] = df.Age_band_of_casualty.map({'Under 18' : 1, '18-30' : 2, '31-50' : 3, 'Over 51' : 4, 'na' : 10})\n",
    "df['Fitness_of_casuality'] = df.Fitness_of_casuality.map({'Normal' : 1, 'NormalNormal' : 2, 'Deaf' : 3, 'Other' : 4, 'Blind' : 4})\n",
    "#df['Accident_severity'] = df.Accident_severity.map({'Slight Injury' : 1, 'Serious Injury' : 2, 'Fatal injury' : 3})\n",
    "df.head(10)"
   ]
  },
  {
   "cell_type": "code",
   "execution_count": null,
   "id": "a865ab1b",
   "metadata": {},
   "outputs": [],
   "source": [
    "dummy_df = pd.get_dummies(df[['Area_accident_occured', \\\n",
    "                              'Weather_conditions', \\\n",
    "                              'Light_conditions', \\\n",
    "                              'Age_band_of_casualty', \\\n",
    "                              'Age_band_of_driver', \\\n",
    "                              'Sex_of_casualty',\\\n",
    "                              'Casualty_severity',\\\n",
    "                              'Accident_severity',\\\n",
    "                              'Educational_level']], dummy_na=False, \\\n",
    "                              drop_first=True)\n",
    "    \n",
    "    # Concat dummy dataframe to original \n",
    "df = pd.concat([df, dummy_df], axis=1)"
   ]
  },
  {
   "cell_type": "code",
   "execution_count": null,
   "id": "f9226423",
   "metadata": {},
   "outputs": [],
   "source": [
    "df = df.drop(['Area_accident_occured', 'Accident_severity', 'Educational_level', 'Light_conditions', 'Weather_conditions', 'Age_band_of_casualty', 'Age_band_of_driver', 'Educational_level_Unknown', 'Educational_level_Illiterate', 'Time', 'Lanes_or_Medians', 'Vehicle_movement', 'Types_of_Junction', 'Pedestrian_movement', 'Cause_of_accident', 'Type_of_collision', 'Vehicle_driver_relation', 'Type_of_vehicle', 'Road_surface_type', 'Road_surface_conditions', 'Day_of_week','Road_allignment', 'Fitness_of_casuality', 'Work_of_casuality', 'Sex_of_driver', 'Sex_of_casualty', 'Defect_of_vehicle', 'Owner_of_vehicle', 'Service_year_of_vehicle', 'Road_surface_type'], axis=1)\n",
    "\n"
   ]
  },
  {
   "cell_type": "code",
   "execution_count": null,
   "id": "7bfc4592",
   "metadata": {},
   "outputs": [],
   "source": [
    "get.loc[2:15, ['Time', \"Weather_conditions\"]]"
   ]
  },
  {
   "cell_type": "code",
   "execution_count": null,
   "id": "92fe35c5",
   "metadata": {},
   "outputs": [],
   "source": [
    "get.Time.min()\n",
    "get.Time = pd.to_datetime(get.Time, infer_datetime_format=True)"
   ]
  },
  {
   "cell_type": "code",
   "execution_count": null,
   "id": "54da9bd7",
   "metadata": {},
   "outputs": [],
   "source": [
    "get['year'] = pd.DatetimeIndex(get['Time']).year\n",
    "get.head()"
   ]
  },
  {
   "cell_type": "code",
   "execution_count": null,
   "id": "f83f57c9",
   "metadata": {},
   "outputs": [],
   "source": [
    "get['year'] = pd.DatetimeIndex(get['Time']).year"
   ]
  },
  {
   "cell_type": "markdown",
   "id": "4e140518",
   "metadata": {},
   "source": [
    "#### Explore"
   ]
  },
  {
   "cell_type": "code",
   "execution_count": 4,
   "id": "96b7657b",
   "metadata": {},
   "outputs": [],
   "source": [
    "# split data and explore on train\n",
    "def split(df, stratify_by='Casualty_class'):\n",
    "    # split df into train_validate \n",
    "    train_validate, test = train_test_split(df, test_size=.20, random_state=13)\n",
    "    train, validate = train_test_split(train_validate, test_size=.3, random_state=13)\n",
    "\n",
    "    X_train = train.drop(columns=['Casualty_class'])\n",
    "    y_train = train[['Casualty_class']]\n",
    "\n",
    "    X_validate = validate.drop(columns=['Casualty_class'])\n",
    "    y_validate = validate[['Casualty_class']]\n",
    "\n",
    "    X_test = test.drop(columns=['Casualty_class'])\n",
    "    y_test = test[['Casualty_class']]\n",
    "\n",
    "    return train, X_train, X_validate, X_test, y_train, y_validate, y_test"
   ]
  },
  {
   "cell_type": "code",
   "execution_count": 5,
   "id": "54e15354",
   "metadata": {},
   "outputs": [],
   "source": [
    "train, X_train, X_validate, X_test, y_train, y_validate, y_test = split(df, stratify_by='Casualty_class')"
   ]
  },
  {
   "cell_type": "code",
   "execution_count": 13,
   "id": "d6b45178",
   "metadata": {},
   "outputs": [
    {
     "data": {
      "image/png": "[encoded data removed]",
      "text/plain": [
       "<Figure size 432x288 with 1 Axes>"
      ]
     },
     "metadata": {
      "needs_background": "light"
     },
     "output_type": "display_data"
    }
   ],
   "source": [
    "sns.boxplot(data=train, y='Number_of_casualties')\n",
    "plt.show()"
   ]
  },
  {
   "cell_type": "code",
   "execution_count": 6,
   "id": "5ceff7b7",
   "metadata": {},
   "outputs": [
    {
     "data": {
      "text/html": [
       "<div>\n",
       "<style scoped>\n",
       "    .dataframe tbody tr th:only-of-type {\n",
       "        vertical-align: middle;\n",
       "    }\n",
       "\n",
       "    .dataframe tbody tr th {\n",
       "        vertical-align: top;\n",
       "    }\n",
       "\n",
       "    .dataframe thead th {\n",
       "        text-align: right;\n",
       "    }\n",
       "</style>\n",
       "<table border=\"1\" class=\"dataframe\">\n",
       "  <thead>\n",
       "    <tr style=\"text-align: right;\">\n",
       "      <th></th>\n",
       "      <th>Casualty_class</th>\n",
       "    </tr>\n",
       "  </thead>\n",
       "  <tbody>\n",
       "    <tr>\n",
       "      <th>10242</th>\n",
       "      <td>1</td>\n",
       "    </tr>\n",
       "    <tr>\n",
       "      <th>2673</th>\n",
       "      <td>1</td>\n",
       "    </tr>\n",
       "    <tr>\n",
       "      <th>5201</th>\n",
       "      <td>2</td>\n",
       "    </tr>\n",
       "    <tr>\n",
       "      <th>11438</th>\n",
       "      <td>2</td>\n",
       "    </tr>\n",
       "    <tr>\n",
       "      <th>11556</th>\n",
       "      <td>3</td>\n",
       "    </tr>\n",
       "  </tbody>\n",
       "</table>\n",
       "</div>"
      ],
      "text/plain": [
       "       Casualty_class\n",
       "10242               1\n",
       "2673                1\n",
       "5201                2\n",
       "11438               2\n",
       "11556               3"
      ]
     },
     "execution_count": 6,
     "metadata": {},
     "output_type": "execute_result"
    }
   ],
   "source": [
    "y_train.head()"
   ]
  },
  {
   "cell_type": "code",
   "execution_count": 14,
   "id": "e7d36651",
   "metadata": {},
   "outputs": [
    {
     "data": {
      "image/png": "[encoded data removed]",
      "text/plain": [
       "<Figure size 1080x576 with 2 Axes>"
      ]
     },
     "metadata": {
      "needs_background": "light"
     },
     "output_type": "display_data"
    }
   ],
   "source": [
    "fig, ax =plt.subplots(1,2,figsize = (15,8))\n",
    "sns.despine(top=True, right=True, left=False, bottom=False)\n",
    "ax1 =sns.countplot(\"Casualty_class\", hue=\"Sex_of_casualty_Male\", \n",
    "              palette=\"magma\", data=train, ax=ax[0])\n",
    "\n",
    "ax2 = sns.countplot(\"Accident_severity\", hue=\"Sex_of_casualty_Male\", \n",
    "              palette=\"magma\", data=train, ax=ax[1])"
   ]
  },
  {
   "cell_type": "markdown",
   "id": "e2f6cc8d",
   "metadata": {},
   "source": [
    "From this chart, generally there are more women in the casualty class, especially driver or rider. The count for women is also higher for accident severity."
   ]
  },
  {
   "cell_type": "code",
   "execution_count": 16,
   "id": "48b7e286",
   "metadata": {},
   "outputs": [
    {
     "data": {
      "text/html": [
       "<div>\n",
       "<style scoped>\n",
       "    .dataframe tbody tr th:only-of-type {\n",
       "        vertical-align: middle;\n",
       "    }\n",
       "\n",
       "    .dataframe tbody tr th {\n",
       "        vertical-align: top;\n",
       "    }\n",
       "\n",
       "    .dataframe thead th {\n",
       "        text-align: right;\n",
       "    }\n",
       "</style>\n",
       "<table border=\"1\" class=\"dataframe\">\n",
       "  <thead>\n",
       "    <tr style=\"text-align: right;\">\n",
       "      <th></th>\n",
       "      <th>Age_band_of_driver</th>\n",
       "      <th>Driving_experience</th>\n",
       "      <th>Area_accident_occured</th>\n",
       "      <th>Light_conditions</th>\n",
       "      <th>Number_of_vehicles_involved</th>\n",
       "      <th>Number_of_casualties</th>\n",
       "      <th>Casualty_class</th>\n",
       "      <th>Age_band_of_casualty</th>\n",
       "      <th>Casualty_severity</th>\n",
       "      <th>Fitness_of_casuality</th>\n",
       "      <th>...</th>\n",
       "      <th>Weather_conditions_Raining</th>\n",
       "      <th>Weather_conditions_Raining and Windy</th>\n",
       "      <th>Weather_conditions_Snow</th>\n",
       "      <th>Weather_conditions_Unknown</th>\n",
       "      <th>Weather_conditions_Windy</th>\n",
       "      <th>Sex_of_casualty_Male</th>\n",
       "      <th>Educational_level_Elementary</th>\n",
       "      <th>Educational_level_High School</th>\n",
       "      <th>Educational_level_High school</th>\n",
       "      <th>Educational_level_Junior High</th>\n",
       "    </tr>\n",
       "  </thead>\n",
       "  <tbody>\n",
       "    <tr>\n",
       "      <th>5201</th>\n",
       "      <td>2</td>\n",
       "      <td>1</td>\n",
       "      <td>1</td>\n",
       "      <td>3</td>\n",
       "      <td>2</td>\n",
       "      <td>1</td>\n",
       "      <td>2</td>\n",
       "      <td>2</td>\n",
       "      <td>3.0</td>\n",
       "      <td>1</td>\n",
       "      <td>...</td>\n",
       "      <td>0</td>\n",
       "      <td>0</td>\n",
       "      <td>0</td>\n",
       "      <td>0</td>\n",
       "      <td>0</td>\n",
       "      <td>0</td>\n",
       "      <td>1</td>\n",
       "      <td>0</td>\n",
       "      <td>0</td>\n",
       "      <td>0</td>\n",
       "    </tr>\n",
       "    <tr>\n",
       "      <th>3197</th>\n",
       "      <td>2</td>\n",
       "      <td>1</td>\n",
       "      <td>1</td>\n",
       "      <td>3</td>\n",
       "      <td>2</td>\n",
       "      <td>1</td>\n",
       "      <td>1</td>\n",
       "      <td>3</td>\n",
       "      <td>3.0</td>\n",
       "      <td>1</td>\n",
       "      <td>...</td>\n",
       "      <td>0</td>\n",
       "      <td>0</td>\n",
       "      <td>0</td>\n",
       "      <td>0</td>\n",
       "      <td>0</td>\n",
       "      <td>1</td>\n",
       "      <td>1</td>\n",
       "      <td>0</td>\n",
       "      <td>0</td>\n",
       "      <td>0</td>\n",
       "    </tr>\n",
       "    <tr>\n",
       "      <th>8414</th>\n",
       "      <td>3</td>\n",
       "      <td>1</td>\n",
       "      <td>1</td>\n",
       "      <td>2</td>\n",
       "      <td>2</td>\n",
       "      <td>2</td>\n",
       "      <td>1</td>\n",
       "      <td>3</td>\n",
       "      <td>3.0</td>\n",
       "      <td>1</td>\n",
       "      <td>...</td>\n",
       "      <td>0</td>\n",
       "      <td>0</td>\n",
       "      <td>0</td>\n",
       "      <td>0</td>\n",
       "      <td>0</td>\n",
       "      <td>1</td>\n",
       "      <td>0</td>\n",
       "      <td>0</td>\n",
       "      <td>0</td>\n",
       "      <td>1</td>\n",
       "    </tr>\n",
       "    <tr>\n",
       "      <th>5042</th>\n",
       "      <td>3</td>\n",
       "      <td>2</td>\n",
       "      <td>1</td>\n",
       "      <td>3</td>\n",
       "      <td>2</td>\n",
       "      <td>1</td>\n",
       "      <td>1</td>\n",
       "      <td>2</td>\n",
       "      <td>3.0</td>\n",
       "      <td>1</td>\n",
       "      <td>...</td>\n",
       "      <td>1</td>\n",
       "      <td>0</td>\n",
       "      <td>0</td>\n",
       "      <td>0</td>\n",
       "      <td>0</td>\n",
       "      <td>0</td>\n",
       "      <td>0</td>\n",
       "      <td>0</td>\n",
       "      <td>0</td>\n",
       "      <td>1</td>\n",
       "    </tr>\n",
       "    <tr>\n",
       "      <th>7449</th>\n",
       "      <td>3</td>\n",
       "      <td>1</td>\n",
       "      <td>1</td>\n",
       "      <td>3</td>\n",
       "      <td>2</td>\n",
       "      <td>2</td>\n",
       "      <td>1</td>\n",
       "      <td>2</td>\n",
       "      <td>3.0</td>\n",
       "      <td>1</td>\n",
       "      <td>...</td>\n",
       "      <td>0</td>\n",
       "      <td>0</td>\n",
       "      <td>0</td>\n",
       "      <td>0</td>\n",
       "      <td>0</td>\n",
       "      <td>0</td>\n",
       "      <td>0</td>\n",
       "      <td>0</td>\n",
       "      <td>0</td>\n",
       "      <td>1</td>\n",
       "    </tr>\n",
       "    <tr>\n",
       "      <th>...</th>\n",
       "      <td>...</td>\n",
       "      <td>...</td>\n",
       "      <td>...</td>\n",
       "      <td>...</td>\n",
       "      <td>...</td>\n",
       "      <td>...</td>\n",
       "      <td>...</td>\n",
       "      <td>...</td>\n",
       "      <td>...</td>\n",
       "      <td>...</td>\n",
       "      <td>...</td>\n",
       "      <td>...</td>\n",
       "      <td>...</td>\n",
       "      <td>...</td>\n",
       "      <td>...</td>\n",
       "      <td>...</td>\n",
       "      <td>...</td>\n",
       "      <td>...</td>\n",
       "      <td>...</td>\n",
       "      <td>...</td>\n",
       "      <td>...</td>\n",
       "    </tr>\n",
       "    <tr>\n",
       "      <th>6547</th>\n",
       "      <td>3</td>\n",
       "      <td>2</td>\n",
       "      <td>1</td>\n",
       "      <td>3</td>\n",
       "      <td>2</td>\n",
       "      <td>1</td>\n",
       "      <td>1</td>\n",
       "      <td>2</td>\n",
       "      <td>3.0</td>\n",
       "      <td>1</td>\n",
       "      <td>...</td>\n",
       "      <td>0</td>\n",
       "      <td>0</td>\n",
       "      <td>0</td>\n",
       "      <td>0</td>\n",
       "      <td>0</td>\n",
       "      <td>0</td>\n",
       "      <td>1</td>\n",
       "      <td>0</td>\n",
       "      <td>0</td>\n",
       "      <td>0</td>\n",
       "    </tr>\n",
       "    <tr>\n",
       "      <th>2738</th>\n",
       "      <td>4</td>\n",
       "      <td>1</td>\n",
       "      <td>1</td>\n",
       "      <td>3</td>\n",
       "      <td>2</td>\n",
       "      <td>1</td>\n",
       "      <td>1</td>\n",
       "      <td>2</td>\n",
       "      <td>3.0</td>\n",
       "      <td>1</td>\n",
       "      <td>...</td>\n",
       "      <td>0</td>\n",
       "      <td>0</td>\n",
       "      <td>0</td>\n",
       "      <td>0</td>\n",
       "      <td>0</td>\n",
       "      <td>0</td>\n",
       "      <td>0</td>\n",
       "      <td>0</td>\n",
       "      <td>0</td>\n",
       "      <td>1</td>\n",
       "    </tr>\n",
       "    <tr>\n",
       "      <th>7340</th>\n",
       "      <td>4</td>\n",
       "      <td>3</td>\n",
       "      <td>1</td>\n",
       "      <td>3</td>\n",
       "      <td>3</td>\n",
       "      <td>4</td>\n",
       "      <td>1</td>\n",
       "      <td>2</td>\n",
       "      <td>3.0</td>\n",
       "      <td>1</td>\n",
       "      <td>...</td>\n",
       "      <td>0</td>\n",
       "      <td>0</td>\n",
       "      <td>0</td>\n",
       "      <td>0</td>\n",
       "      <td>0</td>\n",
       "      <td>0</td>\n",
       "      <td>0</td>\n",
       "      <td>0</td>\n",
       "      <td>0</td>\n",
       "      <td>1</td>\n",
       "    </tr>\n",
       "    <tr>\n",
       "      <th>3606</th>\n",
       "      <td>2</td>\n",
       "      <td>5</td>\n",
       "      <td>1</td>\n",
       "      <td>2</td>\n",
       "      <td>2</td>\n",
       "      <td>1</td>\n",
       "      <td>1</td>\n",
       "      <td>2</td>\n",
       "      <td>3.0</td>\n",
       "      <td>1</td>\n",
       "      <td>...</td>\n",
       "      <td>0</td>\n",
       "      <td>0</td>\n",
       "      <td>0</td>\n",
       "      <td>0</td>\n",
       "      <td>0</td>\n",
       "      <td>1</td>\n",
       "      <td>0</td>\n",
       "      <td>0</td>\n",
       "      <td>0</td>\n",
       "      <td>1</td>\n",
       "    </tr>\n",
       "    <tr>\n",
       "      <th>1029</th>\n",
       "      <td>10</td>\n",
       "      <td>4</td>\n",
       "      <td>1</td>\n",
       "      <td>3</td>\n",
       "      <td>1</td>\n",
       "      <td>1</td>\n",
       "      <td>1</td>\n",
       "      <td>2</td>\n",
       "      <td>3.0</td>\n",
       "      <td>1</td>\n",
       "      <td>...</td>\n",
       "      <td>0</td>\n",
       "      <td>0</td>\n",
       "      <td>0</td>\n",
       "      <td>0</td>\n",
       "      <td>0</td>\n",
       "      <td>0</td>\n",
       "      <td>0</td>\n",
       "      <td>0</td>\n",
       "      <td>0</td>\n",
       "      <td>1</td>\n",
       "    </tr>\n",
       "  </tbody>\n",
       "</table>\n",
       "<p>1946 rows × 26 columns</p>\n",
       "</div>"
      ],
      "text/plain": [
       "      Age_band_of_driver  Driving_experience  Area_accident_occured  \\\n",
       "5201                   2                   1                      1   \n",
       "3197                   2                   1                      1   \n",
       "8414                   3                   1                      1   \n",
       "5042                   3                   2                      1   \n",
       "7449                   3                   1                      1   \n",
       "...                  ...                 ...                    ...   \n",
       "6547                   3                   2                      1   \n",
       "2738                   4                   1                      1   \n",
       "7340                   4                   3                      1   \n",
       "3606                   2                   5                      1   \n",
       "1029                  10                   4                      1   \n",
       "\n",
       "      Light_conditions  Number_of_vehicles_involved  Number_of_casualties  \\\n",
       "5201                 3                            2                     1   \n",
       "3197                 3                            2                     1   \n",
       "8414                 2                            2                     2   \n",
       "5042                 3                            2                     1   \n",
       "7449                 3                            2                     2   \n",
       "...                ...                          ...                   ...   \n",
       "6547                 3                            2                     1   \n",
       "2738                 3                            2                     1   \n",
       "7340                 3                            3                     4   \n",
       "3606                 2                            2                     1   \n",
       "1029                 3                            1                     1   \n",
       "\n",
       "      Casualty_class  Age_band_of_casualty  Casualty_severity  \\\n",
       "5201               2                     2                3.0   \n",
       "3197               1                     3                3.0   \n",
       "8414               1                     3                3.0   \n",
       "5042               1                     2                3.0   \n",
       "7449               1                     2                3.0   \n",
       "...              ...                   ...                ...   \n",
       "6547               1                     2                3.0   \n",
       "2738               1                     2                3.0   \n",
       "7340               1                     2                3.0   \n",
       "3606               1                     2                3.0   \n",
       "1029               1                     2                3.0   \n",
       "\n",
       "      Fitness_of_casuality  ...  Weather_conditions_Raining  \\\n",
       "5201                     1  ...                           0   \n",
       "3197                     1  ...                           0   \n",
       "8414                     1  ...                           0   \n",
       "5042                     1  ...                           1   \n",
       "7449                     1  ...                           0   \n",
       "...                    ...  ...                         ...   \n",
       "6547                     1  ...                           0   \n",
       "2738                     1  ...                           0   \n",
       "7340                     1  ...                           0   \n",
       "3606                     1  ...                           0   \n",
       "1029                     1  ...                           0   \n",
       "\n",
       "      Weather_conditions_Raining and Windy  Weather_conditions_Snow  \\\n",
       "5201                                     0                        0   \n",
       "3197                                     0                        0   \n",
       "8414                                     0                        0   \n",
       "5042                                     0                        0   \n",
       "7449                                     0                        0   \n",
       "...                                    ...                      ...   \n",
       "6547                                     0                        0   \n",
       "2738                                     0                        0   \n",
       "7340                                     0                        0   \n",
       "3606                                     0                        0   \n",
       "1029                                     0                        0   \n",
       "\n",
       "      Weather_conditions_Unknown  Weather_conditions_Windy  \\\n",
       "5201                           0                         0   \n",
       "3197                           0                         0   \n",
       "8414                           0                         0   \n",
       "5042                           0                         0   \n",
       "7449                           0                         0   \n",
       "...                          ...                       ...   \n",
       "6547                           0                         0   \n",
       "2738                           0                         0   \n",
       "7340                           0                         0   \n",
       "3606                           0                         0   \n",
       "1029                           0                         0   \n",
       "\n",
       "      Sex_of_casualty_Male  Educational_level_Elementary  \\\n",
       "5201                     0                             1   \n",
       "3197                     1                             1   \n",
       "8414                     1                             0   \n",
       "5042                     0                             0   \n",
       "7449                     0                             0   \n",
       "...                    ...                           ...   \n",
       "6547                     0                             1   \n",
       "2738                     0                             0   \n",
       "7340                     0                             0   \n",
       "3606                     1                             0   \n",
       "1029                     0                             0   \n",
       "\n",
       "      Educational_level_High School  Educational_level_High school  \\\n",
       "5201                              0                              0   \n",
       "3197                              0                              0   \n",
       "8414                              0                              0   \n",
       "5042                              0                              0   \n",
       "7449                              0                              0   \n",
       "...                             ...                            ...   \n",
       "6547                              0                              0   \n",
       "2738                              0                              0   \n",
       "7340                              0                              0   \n",
       "3606                              0                              0   \n",
       "1029                              0                              0   \n",
       "\n",
       "      Educational_level_Junior High  \n",
       "5201                              0  \n",
       "3197                              0  \n",
       "8414                              1  \n",
       "5042                              1  \n",
       "7449                              1  \n",
       "...                             ...  \n",
       "6547                              0  \n",
       "2738                              1  \n",
       "7340                              1  \n",
       "3606                              1  \n",
       "1029                              1  \n",
       "\n",
       "[1946 rows x 26 columns]"
      ]
     },
     "execution_count": 16,
     "metadata": {},
     "output_type": "execute_result"
    }
   ],
   "source": [
    "df2 = train[train['Area_accident_occured'] ==  1]\n",
    "df2"
   ]
  },
  {
   "cell_type": "code",
   "execution_count": null,
   "id": "1c37c8da",
   "metadata": {},
   "outputs": [],
   "source": [
    "train.loc[2:4, ['Casualty_class']]"
   ]
  },
  {
   "cell_type": "code",
   "execution_count": 17,
   "id": "e1d49809",
   "metadata": {},
   "outputs": [
    {
     "data": {
      "image/png": "[encoded data removed]",
      "text/plain": [
       "<Figure size 432x288 with 2 Axes>"
      ]
     },
     "metadata": {
      "needs_background": "light"
     },
     "output_type": "display_data"
    }
   ],
   "source": [
    "correlation_matrix = train[['Number_of_casualties','Number_of_vehicles_involved']].corr()\n",
    "sns.heatmap(correlation_matrix, annot=True)\n",
    "plt.show()"
   ]
  },
  {
   "cell_type": "markdown",
   "id": "290105d1",
   "metadata": {},
   "source": [
    "there is not much correlation to these variables "
   ]
  },
  {
   "cell_type": "code",
   "execution_count": null,
   "id": "aac1f4d4",
   "metadata": {},
   "outputs": [],
   "source": [
    "train.Fitness_of_casuality.value_counts()"
   ]
  },
  {
   "cell_type": "code",
   "execution_count": null,
   "id": "97c2153b",
   "metadata": {},
   "outputs": [],
   "source": [
    "train.columns"
   ]
  },
  {
   "cell_type": "code",
   "execution_count": 18,
   "id": "8becd6c6",
   "metadata": {},
   "outputs": [
    {
     "data": {
      "image/png": "[encoded data removed]",
      "text/plain": [
       "<Figure size 720x504 with 1 Axes>"
      ]
     },
     "metadata": {
      "needs_background": "light"
     },
     "output_type": "display_data"
    }
   ],
   "source": [
    "plt.figure(figsize=(10,7))\n",
    "sns.boxplot(data=df, y='Number_of_vehicles_involved', x='Number_of_casualties')\n",
    "plt.show()"
   ]
  },
  {
   "cell_type": "code",
   "execution_count": 19,
   "id": "12454b03",
   "metadata": {},
   "outputs": [
    {
     "data": {
      "image/png": "[encoded data removed]",
      "text/plain": [
       "<Figure size 432x288 with 1 Axes>"
      ]
     },
     "metadata": {},
     "output_type": "display_data"
    },
    {
     "data": {
      "image/png": "[encoded data removed]",
      "text/plain": [
       "<Figure size 432x288 with 1 Axes>"
      ]
     },
     "metadata": {},
     "output_type": "display_data"
    },
    {
     "data": {
      "image/png": "[encoded data removed]",
      "text/plain": [
       "<Figure size 432x288 with 1 Axes>"
      ]
     },
     "metadata": {},
     "output_type": "display_data"
    }
   ],
   "source": [
    "var = [\"Age_band_of_casualty\",\"Area_accident_occured\", \"Light_conditions\"]\n",
    "for v in var:\n",
    "    sns.set(style=\"darkgrid\")\n",
    "    sns.countplot(x=v, data=train)\n",
    "    plt.show()"
   ]
  },
  {
   "cell_type": "markdown",
   "id": "c82897f2",
   "metadata": {},
   "source": [
    "### Does age have anything to do with casualty?\n",
    "\n",
    "From these charts I can see that the highest age range for accidents is 18-30"
   ]
  },
  {
   "cell_type": "code",
   "execution_count": null,
   "id": "631efeeb",
   "metadata": {},
   "outputs": [],
   "source": [
    "train.Educational_level.value_counts()"
   ]
  },
  {
   "cell_type": "code",
   "execution_count": 20,
   "id": "160ff29f",
   "metadata": {},
   "outputs": [
    {
     "data": {
      "image/png": "[encoded data removed]",
      "text/plain": [
       "<Figure size 864x288 with 3 Axes>"
      ]
     },
     "metadata": {},
     "output_type": "display_data"
    }
   ],
   "source": [
    "grid = sns.FacetGrid(data=df, col='Light_conditions', height=4, aspect=1, sharey=False)\n",
    "# mapping bar plot and the data on to the grid\n",
    "grid.map(sns.countplot, 'Number_of_casualties', palette=['black', 'brown', 'orange'])\n",
    "plt.show()"
   ]
  },
  {
   "cell_type": "markdown",
   "id": "8849b2c7",
   "metadata": {},
   "source": [
    "A majority of accidents happen in the daytime and at night with lighting."
   ]
  },
  {
   "cell_type": "code",
   "execution_count": 21,
   "id": "4205908b",
   "metadata": {},
   "outputs": [
    {
     "data": {
      "image/png": "[encoded data removed]",
      "text/plain": [
       "<Figure size 432x288 with 1 Axes>"
      ]
     },
     "metadata": {},
     "output_type": "display_data"
    }
   ],
   "source": [
    "target_count = train['Casualty_class'].value_counts()\n",
    "\n",
    "target_count.plot(kind='bar', title='Count (target)');"
   ]
  },
  {
   "cell_type": "markdown",
   "id": "568fd4ec",
   "metadata": {},
   "source": [
    "a majority of casualty class is driver/rider"
   ]
  },
  {
   "cell_type": "markdown",
   "id": "fdd12ae3",
   "metadata": {},
   "source": [
    "#### Testing "
   ]
  },
  {
   "cell_type": "code",
   "execution_count": null,
   "id": "efc954b4",
   "metadata": {},
   "outputs": [],
   "source": [
    "a=train.Casualty_class\n",
    "b=train.Light_conditions\n",
    "observed = pd.crosstab(a,b)\n",
    "observed"
   ]
  },
  {
   "cell_type": "markdown",
   "id": "edb72bb5",
   "metadata": {},
   "source": [
    "Ho - light conditions effects casualty class\n",
    "\n",
    "Ha - light conditions do not effect it "
   ]
  },
  {
   "cell_type": "code",
   "execution_count": null,
   "id": "e849cb6e",
   "metadata": {},
   "outputs": [],
   "source": [
    "chi2, p, degf, expected = stats.chi2_contingency(observed)\n",
    "alpha = 0.05\n",
    "print(f'chi2 = {chi2:.2f}')\n",
    "print(f'p value: {p:.4f}')\n",
    "if p < alpha:\n",
    "      print('We can reject the null hypothesis')\n",
    "else:\n",
    "    print('We fail to reject the null hypothesis')"
   ]
  },
  {
   "cell_type": "markdown",
   "id": "78937823",
   "metadata": {},
   "source": [
    "Ho - Driving experiance effects casualty class\n",
    "\n",
    "Ha - Driving experiance does not effect it"
   ]
  },
  {
   "cell_type": "code",
   "execution_count": null,
   "id": "d394a6d3",
   "metadata": {},
   "outputs": [],
   "source": [
    "a2=train.Casualty_class\n",
    "b2=train.Driving_experience\n",
    "observed2 = pd.crosstab(a2,b2)\n",
    "observed2"
   ]
  },
  {
   "cell_type": "code",
   "execution_count": null,
   "id": "8f947373",
   "metadata": {},
   "outputs": [],
   "source": [
    "chi2, p, degf, expected = stats.chi2_contingency(observed2)\n",
    "alpha = 0.05\n",
    "print(f'chi2 = {chi2:.2f}')\n",
    "print(f'p value: {p:.4f}')\n",
    "if p < alpha:\n",
    "      print('We can reject the null hypothesis')\n",
    "else:\n",
    "    print('We fail to reject the null hypothesis')"
   ]
  },
  {
   "cell_type": "code",
   "execution_count": 22,
   "id": "59d59091",
   "metadata": {},
   "outputs": [
    {
     "data": {
      "text/html": [
       "<div>\n",
       "<style scoped>\n",
       "    .dataframe tbody tr th:only-of-type {\n",
       "        vertical-align: middle;\n",
       "    }\n",
       "\n",
       "    .dataframe tbody tr th {\n",
       "        vertical-align: top;\n",
       "    }\n",
       "\n",
       "    .dataframe thead th {\n",
       "        text-align: right;\n",
       "    }\n",
       "</style>\n",
       "<table border=\"1\" class=\"dataframe\">\n",
       "  <thead>\n",
       "    <tr style=\"text-align: right;\">\n",
       "      <th></th>\n",
       "      <th>Age_band_of_driver</th>\n",
       "      <th>Driving_experience</th>\n",
       "      <th>Area_accident_occured</th>\n",
       "      <th>Light_conditions</th>\n",
       "      <th>Number_of_vehicles_involved</th>\n",
       "      <th>Number_of_casualties</th>\n",
       "      <th>Casualty_class</th>\n",
       "      <th>Age_band_of_casualty</th>\n",
       "      <th>Casualty_severity</th>\n",
       "      <th>Fitness_of_casuality</th>\n",
       "      <th>...</th>\n",
       "      <th>Weather_conditions_Raining</th>\n",
       "      <th>Weather_conditions_Raining and Windy</th>\n",
       "      <th>Weather_conditions_Snow</th>\n",
       "      <th>Weather_conditions_Unknown</th>\n",
       "      <th>Weather_conditions_Windy</th>\n",
       "      <th>Sex_of_casualty_Male</th>\n",
       "      <th>Educational_level_Elementary</th>\n",
       "      <th>Educational_level_High School</th>\n",
       "      <th>Educational_level_High school</th>\n",
       "      <th>Educational_level_Junior High</th>\n",
       "    </tr>\n",
       "  </thead>\n",
       "  <tbody>\n",
       "  </tbody>\n",
       "</table>\n",
       "<p>0 rows × 26 columns</p>\n",
       "</div>"
      ],
      "text/plain": [
       "Empty DataFrame\n",
       "Columns: [Age_band_of_driver, Driving_experience, Area_accident_occured, Light_conditions, Number_of_vehicles_involved, Number_of_casualties, Casualty_class, Age_band_of_casualty, Casualty_severity, Fitness_of_casuality, Accident_severity, Sex_of_driver_Male, Sex_of_driver_Unknown, Weather_conditions_Fog or mist, Weather_conditions_Normal, Weather_conditions_Other, Weather_conditions_Raining, Weather_conditions_Raining and Windy, Weather_conditions_Snow, Weather_conditions_Unknown, Weather_conditions_Windy, Sex_of_casualty_Male, Educational_level_Elementary, Educational_level_High School, Educational_level_High school, Educational_level_Junior High]\n",
       "Index: []\n",
       "\n",
       "[0 rows x 26 columns]"
      ]
     },
     "execution_count": 22,
     "metadata": {},
     "output_type": "execute_result"
    }
   ],
   "source": [
    "df1 = train[train.isna().any(axis=1)]\n",
    "df1"
   ]
  },
  {
   "cell_type": "code",
   "execution_count": 7,
   "id": "5844c5c4",
   "metadata": {},
   "outputs": [],
   "source": [
    "# Chi-square feature selection\n",
    "def feature_chi2(X_train, X_validate, X_test, k = 25):\n",
    "     \n",
    "    # Feature selection\n",
    "    fs = SelectKBest(score_func = chi2, k = k)\n",
    "    fs.fit(X_train, y_train)\n",
    "    \n",
    "    # Selected columns\n",
    "    cols = fs.get_support(indices = True)\n",
    "    \n",
    "    # Output data\n",
    "    X_train_fs = X_train.iloc[:, cols]\n",
    "    X_validate_fs = X_validate.iloc[:, cols]\n",
    "    X_test_fs = X_test.iloc[:, cols]\n",
    "    \n",
    "    return X_train_fs, X_validate_fs, X_test_fs"
   ]
  },
  {
   "cell_type": "code",
   "execution_count": 9,
   "id": "86b6d390",
   "metadata": {},
   "outputs": [],
   "source": [
    "X_train_fs, X_validate_fs, X_test_fs = feature_chi2(X_train, X_validate, X_test, k = 25)"
   ]
  },
  {
   "cell_type": "code",
   "execution_count": 10,
   "id": "f3c6930a",
   "metadata": {},
   "outputs": [
    {
     "data": {
      "text/html": [
       "<div>\n",
       "<style scoped>\n",
       "    .dataframe tbody tr th:only-of-type {\n",
       "        vertical-align: middle;\n",
       "    }\n",
       "\n",
       "    .dataframe tbody tr th {\n",
       "        vertical-align: top;\n",
       "    }\n",
       "\n",
       "    .dataframe thead th {\n",
       "        text-align: right;\n",
       "    }\n",
       "</style>\n",
       "<table border=\"1\" class=\"dataframe\">\n",
       "  <thead>\n",
       "    <tr style=\"text-align: right;\">\n",
       "      <th></th>\n",
       "      <th>Age_band_of_driver</th>\n",
       "      <th>Driving_experience</th>\n",
       "      <th>Area_accident_occured</th>\n",
       "      <th>Light_conditions</th>\n",
       "      <th>Number_of_vehicles_involved</th>\n",
       "      <th>Number_of_casualties</th>\n",
       "      <th>Age_band_of_casualty</th>\n",
       "      <th>Casualty_severity</th>\n",
       "      <th>Fitness_of_casuality</th>\n",
       "      <th>Accident_severity</th>\n",
       "      <th>...</th>\n",
       "      <th>Weather_conditions_Raining</th>\n",
       "      <th>Weather_conditions_Raining and Windy</th>\n",
       "      <th>Weather_conditions_Snow</th>\n",
       "      <th>Weather_conditions_Unknown</th>\n",
       "      <th>Weather_conditions_Windy</th>\n",
       "      <th>Sex_of_casualty_Male</th>\n",
       "      <th>Educational_level_Elementary</th>\n",
       "      <th>Educational_level_High School</th>\n",
       "      <th>Educational_level_High school</th>\n",
       "      <th>Educational_level_Junior High</th>\n",
       "    </tr>\n",
       "  </thead>\n",
       "  <tbody>\n",
       "    <tr>\n",
       "      <th>10242</th>\n",
       "      <td>2</td>\n",
       "      <td>2</td>\n",
       "      <td>9</td>\n",
       "      <td>3</td>\n",
       "      <td>3</td>\n",
       "      <td>1</td>\n",
       "      <td>2</td>\n",
       "      <td>3.0</td>\n",
       "      <td>1</td>\n",
       "      <td>1</td>\n",
       "      <td>...</td>\n",
       "      <td>0</td>\n",
       "      <td>0</td>\n",
       "      <td>0</td>\n",
       "      <td>0</td>\n",
       "      <td>0</td>\n",
       "      <td>0</td>\n",
       "      <td>0</td>\n",
       "      <td>0</td>\n",
       "      <td>0</td>\n",
       "      <td>1</td>\n",
       "    </tr>\n",
       "    <tr>\n",
       "      <th>2673</th>\n",
       "      <td>2</td>\n",
       "      <td>1</td>\n",
       "      <td>9</td>\n",
       "      <td>3</td>\n",
       "      <td>1</td>\n",
       "      <td>1</td>\n",
       "      <td>2</td>\n",
       "      <td>3.0</td>\n",
       "      <td>1</td>\n",
       "      <td>1</td>\n",
       "      <td>...</td>\n",
       "      <td>0</td>\n",
       "      <td>0</td>\n",
       "      <td>0</td>\n",
       "      <td>0</td>\n",
       "      <td>0</td>\n",
       "      <td>0</td>\n",
       "      <td>0</td>\n",
       "      <td>0</td>\n",
       "      <td>0</td>\n",
       "      <td>0</td>\n",
       "    </tr>\n",
       "    <tr>\n",
       "      <th>5201</th>\n",
       "      <td>2</td>\n",
       "      <td>1</td>\n",
       "      <td>1</td>\n",
       "      <td>3</td>\n",
       "      <td>2</td>\n",
       "      <td>1</td>\n",
       "      <td>2</td>\n",
       "      <td>3.0</td>\n",
       "      <td>1</td>\n",
       "      <td>1</td>\n",
       "      <td>...</td>\n",
       "      <td>0</td>\n",
       "      <td>0</td>\n",
       "      <td>0</td>\n",
       "      <td>0</td>\n",
       "      <td>0</td>\n",
       "      <td>0</td>\n",
       "      <td>1</td>\n",
       "      <td>0</td>\n",
       "      <td>0</td>\n",
       "      <td>0</td>\n",
       "    </tr>\n",
       "    <tr>\n",
       "      <th>11438</th>\n",
       "      <td>2</td>\n",
       "      <td>3</td>\n",
       "      <td>9</td>\n",
       "      <td>3</td>\n",
       "      <td>2</td>\n",
       "      <td>1</td>\n",
       "      <td>3</td>\n",
       "      <td>3.0</td>\n",
       "      <td>1</td>\n",
       "      <td>1</td>\n",
       "      <td>...</td>\n",
       "      <td>0</td>\n",
       "      <td>0</td>\n",
       "      <td>0</td>\n",
       "      <td>0</td>\n",
       "      <td>0</td>\n",
       "      <td>0</td>\n",
       "      <td>0</td>\n",
       "      <td>0</td>\n",
       "      <td>0</td>\n",
       "      <td>1</td>\n",
       "    </tr>\n",
       "    <tr>\n",
       "      <th>11556</th>\n",
       "      <td>2</td>\n",
       "      <td>1</td>\n",
       "      <td>5</td>\n",
       "      <td>3</td>\n",
       "      <td>2</td>\n",
       "      <td>2</td>\n",
       "      <td>2</td>\n",
       "      <td>3.0</td>\n",
       "      <td>1</td>\n",
       "      <td>1</td>\n",
       "      <td>...</td>\n",
       "      <td>1</td>\n",
       "      <td>0</td>\n",
       "      <td>0</td>\n",
       "      <td>0</td>\n",
       "      <td>0</td>\n",
       "      <td>1</td>\n",
       "      <td>0</td>\n",
       "      <td>0</td>\n",
       "      <td>0</td>\n",
       "      <td>1</td>\n",
       "    </tr>\n",
       "  </tbody>\n",
       "</table>\n",
       "<p>5 rows × 25 columns</p>\n",
       "</div>"
      ],
      "text/plain": [
       "       Age_band_of_driver  Driving_experience  Area_accident_occured  \\\n",
       "10242                   2                   2                      9   \n",
       "2673                    2                   1                      9   \n",
       "5201                    2                   1                      1   \n",
       "11438                   2                   3                      9   \n",
       "11556                   2                   1                      5   \n",
       "\n",
       "       Light_conditions  Number_of_vehicles_involved  Number_of_casualties  \\\n",
       "10242                 3                            3                     1   \n",
       "2673                  3                            1                     1   \n",
       "5201                  3                            2                     1   \n",
       "11438                 3                            2                     1   \n",
       "11556                 3                            2                     2   \n",
       "\n",
       "       Age_band_of_casualty  Casualty_severity  Fitness_of_casuality  \\\n",
       "10242                     2                3.0                     1   \n",
       "2673                      2                3.0                     1   \n",
       "5201                      2                3.0                     1   \n",
       "11438                     3                3.0                     1   \n",
       "11556                     2                3.0                     1   \n",
       "\n",
       "       Accident_severity  ...  Weather_conditions_Raining  \\\n",
       "10242                  1  ...                           0   \n",
       "2673                   1  ...                           0   \n",
       "5201                   1  ...                           0   \n",
       "11438                  1  ...                           0   \n",
       "11556                  1  ...                           1   \n",
       "\n",
       "       Weather_conditions_Raining and Windy  Weather_conditions_Snow  \\\n",
       "10242                                     0                        0   \n",
       "2673                                      0                        0   \n",
       "5201                                      0                        0   \n",
       "11438                                     0                        0   \n",
       "11556                                     0                        0   \n",
       "\n",
       "       Weather_conditions_Unknown  Weather_conditions_Windy  \\\n",
       "10242                           0                         0   \n",
       "2673                            0                         0   \n",
       "5201                            0                         0   \n",
       "11438                           0                         0   \n",
       "11556                           0                         0   \n",
       "\n",
       "       Sex_of_casualty_Male  Educational_level_Elementary  \\\n",
       "10242                     0                             0   \n",
       "2673                      0                             0   \n",
       "5201                      0                             1   \n",
       "11438                     0                             0   \n",
       "11556                     1                             0   \n",
       "\n",
       "       Educational_level_High School  Educational_level_High school  \\\n",
       "10242                              0                              0   \n",
       "2673                               0                              0   \n",
       "5201                               0                              0   \n",
       "11438                              0                              0   \n",
       "11556                              0                              0   \n",
       "\n",
       "       Educational_level_Junior High  \n",
       "10242                              1  \n",
       "2673                               0  \n",
       "5201                               0  \n",
       "11438                              1  \n",
       "11556                              1  \n",
       "\n",
       "[5 rows x 25 columns]"
      ]
     },
     "execution_count": 10,
     "metadata": {},
     "output_type": "execute_result"
    }
   ],
   "source": [
    "X_train_fs.head()"
   ]
  },
  {
   "cell_type": "code",
   "execution_count": 23,
   "id": "b67fda8d",
   "metadata": {},
   "outputs": [],
   "source": [
    "predictions = pd.DataFrame({\n",
    "    'actual': train.Casualty_class\n",
    "})"
   ]
  },
  {
   "cell_type": "code",
   "execution_count": 24,
   "id": "292a3316",
   "metadata": {},
   "outputs": [
    {
     "data": {
      "text/html": [
       "<div>\n",
       "<style scoped>\n",
       "    .dataframe tbody tr th:only-of-type {\n",
       "        vertical-align: middle;\n",
       "    }\n",
       "\n",
       "    .dataframe tbody tr th {\n",
       "        vertical-align: top;\n",
       "    }\n",
       "\n",
       "    .dataframe thead th {\n",
       "        text-align: right;\n",
       "    }\n",
       "</style>\n",
       "<table border=\"1\" class=\"dataframe\">\n",
       "  <thead>\n",
       "    <tr style=\"text-align: right;\">\n",
       "      <th></th>\n",
       "      <th>actual</th>\n",
       "      <th>baseline</th>\n",
       "    </tr>\n",
       "  </thead>\n",
       "  <tbody>\n",
       "    <tr>\n",
       "      <th>10242</th>\n",
       "      <td>1</td>\n",
       "      <td>0.768997</td>\n",
       "    </tr>\n",
       "    <tr>\n",
       "      <th>2673</th>\n",
       "      <td>1</td>\n",
       "      <td>0.768997</td>\n",
       "    </tr>\n",
       "    <tr>\n",
       "      <th>5201</th>\n",
       "      <td>2</td>\n",
       "      <td>0.768997</td>\n",
       "    </tr>\n",
       "    <tr>\n",
       "      <th>11438</th>\n",
       "      <td>2</td>\n",
       "      <td>0.768997</td>\n",
       "    </tr>\n",
       "    <tr>\n",
       "      <th>11556</th>\n",
       "      <td>3</td>\n",
       "      <td>0.768997</td>\n",
       "    </tr>\n",
       "  </tbody>\n",
       "</table>\n",
       "</div>"
      ],
      "text/plain": [
       "       actual  baseline\n",
       "10242       1  0.768997\n",
       "2673        1  0.768997\n",
       "5201        2  0.768997\n",
       "11438       2  0.768997\n",
       "11556       3  0.768997"
      ]
     },
     "execution_count": 24,
     "metadata": {},
     "output_type": "execute_result"
    }
   ],
   "source": [
    "predictions['baseline'] = train[train['Casualty_class'] == 1].shape[0] /train.shape[0]\n",
    "predictions.head()"
   ]
  },
  {
   "cell_type": "markdown",
   "id": "2a121093",
   "metadata": {},
   "source": [
    "### Random Forest"
   ]
  },
  {
   "cell_type": "code",
   "execution_count": 25,
   "id": "3bf32f04",
   "metadata": {},
   "outputs": [
    {
     "name": "stdout",
     "output_type": "stream",
     "text": [
      "Tree of depth 4\n"
     ]
    },
    {
     "data": {
      "text/html": [
       "<div>\n",
       "<style scoped>\n",
       "    .dataframe tbody tr th:only-of-type {\n",
       "        vertical-align: middle;\n",
       "    }\n",
       "\n",
       "    .dataframe tbody tr th {\n",
       "        vertical-align: top;\n",
       "    }\n",
       "\n",
       "    .dataframe thead th {\n",
       "        text-align: right;\n",
       "    }\n",
       "</style>\n",
       "<table border=\"1\" class=\"dataframe\">\n",
       "  <thead>\n",
       "    <tr style=\"text-align: right;\">\n",
       "      <th></th>\n",
       "      <th>1</th>\n",
       "      <th>2</th>\n",
       "      <th>3</th>\n",
       "      <th>accuracy</th>\n",
       "      <th>macro avg</th>\n",
       "      <th>weighted avg</th>\n",
       "    </tr>\n",
       "  </thead>\n",
       "  <tbody>\n",
       "    <tr>\n",
       "      <th>precision</th>\n",
       "      <td>0.768997</td>\n",
       "      <td>0.0</td>\n",
       "      <td>0.0</td>\n",
       "      <td>0.768997</td>\n",
       "      <td>0.256332</td>\n",
       "      <td>0.591356</td>\n",
       "    </tr>\n",
       "    <tr>\n",
       "      <th>recall</th>\n",
       "      <td>1.000000</td>\n",
       "      <td>0.0</td>\n",
       "      <td>0.0</td>\n",
       "      <td>0.768997</td>\n",
       "      <td>0.333333</td>\n",
       "      <td>0.768997</td>\n",
       "    </tr>\n",
       "    <tr>\n",
       "      <th>f1-score</th>\n",
       "      <td>0.869416</td>\n",
       "      <td>0.0</td>\n",
       "      <td>0.0</td>\n",
       "      <td>0.768997</td>\n",
       "      <td>0.289805</td>\n",
       "      <td>0.668578</td>\n",
       "    </tr>\n",
       "    <tr>\n",
       "      <th>support</th>\n",
       "      <td>5303.000000</td>\n",
       "      <td>889.0</td>\n",
       "      <td>704.0</td>\n",
       "      <td>0.768997</td>\n",
       "      <td>6896.000000</td>\n",
       "      <td>6896.000000</td>\n",
       "    </tr>\n",
       "  </tbody>\n",
       "</table>\n",
       "</div>"
      ],
      "text/plain": [
       "                     1      2      3  accuracy    macro avg  weighted avg\n",
       "precision     0.768997    0.0    0.0  0.768997     0.256332      0.591356\n",
       "recall        1.000000    0.0    0.0  0.768997     0.333333      0.768997\n",
       "f1-score      0.869416    0.0    0.0  0.768997     0.289805      0.668578\n",
       "support    5303.000000  889.0  704.0  0.768997  6896.000000   6896.000000"
      ]
     },
     "execution_count": 25,
     "metadata": {},
     "output_type": "execute_result"
    }
   ],
   "source": [
    "from sklearn.metrics import classification_report\n",
    "# assign model\n",
    "forest1 = RandomForestClassifier(max_depth=3, random_state=123)\n",
    "#fit model\n",
    "forest1.fit(X_train_fs, y_train)\n",
    "y_predictions = forest1.predict(X_train_fs)\n",
    "predictions['RF'] = forest1.predict(X_train_fs)\n",
    "\n",
    "report = classification_report(y_train, y_predictions, output_dict=True)\n",
    "print(\"Tree of depth 4\")\n",
    "pd.DataFrame(report)"
   ]
  },
  {
   "cell_type": "code",
   "execution_count": 26,
   "id": "875b7291",
   "metadata": {},
   "outputs": [
    {
     "name": "stdout",
     "output_type": "stream",
     "text": [
      "Root Mean Square Error:\n",
      "\n",
      "0.7329856625054239\n"
     ]
    }
   ],
   "source": [
    "from sklearn.metrics import mean_squared_error\n",
    "# evaluate accuracy on dt\n",
    "MSE = mean_squared_error(predictions.actual, predictions.RF)\n",
    "RMSE = math.sqrt(MSE)\n",
    "predictions['RF'] = RMSE\n",
    "print(\"Root Mean Square Error:\\n\")\n",
    "print(RMSE)"
   ]
  },
  {
   "cell_type": "markdown",
   "id": "4d3c2b10",
   "metadata": {},
   "source": [
    "### Decision Tree \n",
    "\n",
    "Max depth 3"
   ]
  },
  {
   "cell_type": "code",
   "execution_count": 27,
   "id": "1dc22ff6",
   "metadata": {
    "scrolled": true
   },
   "outputs": [
    {
     "name": "stdout",
     "output_type": "stream",
     "text": [
      "Tree of depth 7\n"
     ]
    },
    {
     "data": {
      "text/html": [
       "<div>\n",
       "<style scoped>\n",
       "    .dataframe tbody tr th:only-of-type {\n",
       "        vertical-align: middle;\n",
       "    }\n",
       "\n",
       "    .dataframe tbody tr th {\n",
       "        vertical-align: top;\n",
       "    }\n",
       "\n",
       "    .dataframe thead th {\n",
       "        text-align: right;\n",
       "    }\n",
       "</style>\n",
       "<table border=\"1\" class=\"dataframe\">\n",
       "  <thead>\n",
       "    <tr style=\"text-align: right;\">\n",
       "      <th></th>\n",
       "      <th>1</th>\n",
       "      <th>2</th>\n",
       "      <th>3</th>\n",
       "      <th>accuracy</th>\n",
       "      <th>macro avg</th>\n",
       "      <th>weighted avg</th>\n",
       "    </tr>\n",
       "  </thead>\n",
       "  <tbody>\n",
       "    <tr>\n",
       "      <th>precision</th>\n",
       "      <td>0.811174</td>\n",
       "      <td>0.482270</td>\n",
       "      <td>0.443804</td>\n",
       "      <td>0.785963</td>\n",
       "      <td>0.579082</td>\n",
       "      <td>0.731269</td>\n",
       "    </tr>\n",
       "    <tr>\n",
       "      <th>recall</th>\n",
       "      <td>0.980200</td>\n",
       "      <td>0.076490</td>\n",
       "      <td>0.218750</td>\n",
       "      <td>0.785963</td>\n",
       "      <td>0.425147</td>\n",
       "      <td>0.785963</td>\n",
       "    </tr>\n",
       "    <tr>\n",
       "      <th>f1-score</th>\n",
       "      <td>0.887712</td>\n",
       "      <td>0.132039</td>\n",
       "      <td>0.293054</td>\n",
       "      <td>0.785963</td>\n",
       "      <td>0.437602</td>\n",
       "      <td>0.729587</td>\n",
       "    </tr>\n",
       "    <tr>\n",
       "      <th>support</th>\n",
       "      <td>5303.000000</td>\n",
       "      <td>889.000000</td>\n",
       "      <td>704.000000</td>\n",
       "      <td>0.785963</td>\n",
       "      <td>6896.000000</td>\n",
       "      <td>6896.000000</td>\n",
       "    </tr>\n",
       "  </tbody>\n",
       "</table>\n",
       "</div>"
      ],
      "text/plain": [
       "                     1           2           3  accuracy    macro avg  \\\n",
       "precision     0.811174    0.482270    0.443804  0.785963     0.579082   \n",
       "recall        0.980200    0.076490    0.218750  0.785963     0.425147   \n",
       "f1-score      0.887712    0.132039    0.293054  0.785963     0.437602   \n",
       "support    5303.000000  889.000000  704.000000  0.785963  6896.000000   \n",
       "\n",
       "           weighted avg  \n",
       "precision      0.731269  \n",
       "recall         0.785963  \n",
       "f1-score       0.729587  \n",
       "support     6896.000000  "
      ]
     },
     "execution_count": 27,
     "metadata": {},
     "output_type": "execute_result"
    }
   ],
   "source": [
    "# call the model\n",
    "tree1 = DecisionTreeClassifier(max_depth=3, random_state=123)\n",
    "# fit the model\n",
    "tree1 = tree1.fit(X_train_fs, y_train)\n",
    "y_predictions = tree1.predict(X_train_fs)\n",
    "predictions['DT'] = tree1.predict(X_train_fs)\n",
    "report = classification_report(y_train, y_predictions, output_dict=True)\n",
    "print(\"Tree of depth 7\")\n",
    "pd.DataFrame(report)"
   ]
  },
  {
   "cell_type": "code",
   "execution_count": 28,
   "id": "cecded1e",
   "metadata": {},
   "outputs": [
    {
     "name": "stdout",
     "output_type": "stream",
     "text": [
      "Root Mean Square Error:\n",
      "\n",
      "0.6835403266744803\n"
     ]
    }
   ],
   "source": [
    "# evaluate accuracy on dt\n",
    "MSE = mean_squared_error(predictions.actual, predictions.DT)\n",
    "RMSE = math.sqrt(MSE)\n",
    "predictions['DT'] = RMSE\n",
    "print(\"Root Mean Square Error:\\n\")\n",
    "print(RMSE)"
   ]
  },
  {
   "cell_type": "markdown",
   "id": "c53b406c",
   "metadata": {},
   "source": [
    "### Decision Tree\n",
    "\n",
    "max depth 5"
   ]
  },
  {
   "cell_type": "code",
   "execution_count": 29,
   "id": "37fa7be8",
   "metadata": {},
   "outputs": [
    {
     "name": "stdout",
     "output_type": "stream",
     "text": [
      "Tree of depth 5\n"
     ]
    },
    {
     "data": {
      "text/html": [
       "<div>\n",
       "<style scoped>\n",
       "    .dataframe tbody tr th:only-of-type {\n",
       "        vertical-align: middle;\n",
       "    }\n",
       "\n",
       "    .dataframe tbody tr th {\n",
       "        vertical-align: top;\n",
       "    }\n",
       "\n",
       "    .dataframe thead th {\n",
       "        text-align: right;\n",
       "    }\n",
       "</style>\n",
       "<table border=\"1\" class=\"dataframe\">\n",
       "  <thead>\n",
       "    <tr style=\"text-align: right;\">\n",
       "      <th></th>\n",
       "      <th>1</th>\n",
       "      <th>2</th>\n",
       "      <th>3</th>\n",
       "      <th>accuracy</th>\n",
       "      <th>macro avg</th>\n",
       "      <th>weighted avg</th>\n",
       "    </tr>\n",
       "  </thead>\n",
       "  <tbody>\n",
       "    <tr>\n",
       "      <th>precision</th>\n",
       "      <td>0.811174</td>\n",
       "      <td>0.482270</td>\n",
       "      <td>0.443804</td>\n",
       "      <td>0.785963</td>\n",
       "      <td>0.579082</td>\n",
       "      <td>0.731269</td>\n",
       "    </tr>\n",
       "    <tr>\n",
       "      <th>recall</th>\n",
       "      <td>0.980200</td>\n",
       "      <td>0.076490</td>\n",
       "      <td>0.218750</td>\n",
       "      <td>0.785963</td>\n",
       "      <td>0.425147</td>\n",
       "      <td>0.785963</td>\n",
       "    </tr>\n",
       "    <tr>\n",
       "      <th>f1-score</th>\n",
       "      <td>0.887712</td>\n",
       "      <td>0.132039</td>\n",
       "      <td>0.293054</td>\n",
       "      <td>0.785963</td>\n",
       "      <td>0.437602</td>\n",
       "      <td>0.729587</td>\n",
       "    </tr>\n",
       "    <tr>\n",
       "      <th>support</th>\n",
       "      <td>5303.000000</td>\n",
       "      <td>889.000000</td>\n",
       "      <td>704.000000</td>\n",
       "      <td>0.785963</td>\n",
       "      <td>6896.000000</td>\n",
       "      <td>6896.000000</td>\n",
       "    </tr>\n",
       "  </tbody>\n",
       "</table>\n",
       "</div>"
      ],
      "text/plain": [
       "                     1           2           3  accuracy    macro avg  \\\n",
       "precision     0.811174    0.482270    0.443804  0.785963     0.579082   \n",
       "recall        0.980200    0.076490    0.218750  0.785963     0.425147   \n",
       "f1-score      0.887712    0.132039    0.293054  0.785963     0.437602   \n",
       "support    5303.000000  889.000000  704.000000  0.785963  6896.000000   \n",
       "\n",
       "           weighted avg  \n",
       "precision      0.731269  \n",
       "recall         0.785963  \n",
       "f1-score       0.729587  \n",
       "support     6896.000000  "
      ]
     },
     "execution_count": 29,
     "metadata": {},
     "output_type": "execute_result"
    }
   ],
   "source": [
    "# call the model\n",
    "tree2 = DecisionTreeClassifier(max_depth=7, random_state=123)\n",
    "# fit the model\n",
    "tree2 = tree1.fit(X_train_fs, y_train)\n",
    "y_predictions = tree2.predict(X_train_fs)\n",
    "predictions['DT2'] = tree2.predict(X_train_fs)\n",
    "report = classification_report(y_train, y_predictions, output_dict=True)\n",
    "print(\"Tree of depth 5\")\n",
    "pd.DataFrame(report)"
   ]
  },
  {
   "cell_type": "code",
   "execution_count": 30,
   "id": "068b27ae",
   "metadata": {},
   "outputs": [
    {
     "name": "stdout",
     "output_type": "stream",
     "text": [
      "Root Mean Square Error:\n",
      "\n",
      "0.6835403266744803\n"
     ]
    }
   ],
   "source": [
    "# evaluate accuracy on dt2\n",
    "MSE = mean_squared_error(predictions.actual, predictions.DT2)\n",
    "RMSE = math.sqrt(MSE)\n",
    "predictions['DT2'] = RMSE\n",
    "print(\"Root Mean Square Error:\\n\")\n",
    "print(RMSE)"
   ]
  },
  {
   "cell_type": "code",
   "execution_count": 31,
   "id": "cef9fc75",
   "metadata": {},
   "outputs": [
    {
     "data": {
      "text/html": [
       "<div>\n",
       "<style scoped>\n",
       "    .dataframe tbody tr th:only-of-type {\n",
       "        vertical-align: middle;\n",
       "    }\n",
       "\n",
       "    .dataframe tbody tr th {\n",
       "        vertical-align: top;\n",
       "    }\n",
       "\n",
       "    .dataframe thead th {\n",
       "        text-align: right;\n",
       "    }\n",
       "</style>\n",
       "<table border=\"1\" class=\"dataframe\">\n",
       "  <thead>\n",
       "    <tr style=\"text-align: right;\">\n",
       "      <th></th>\n",
       "      <th>actual</th>\n",
       "      <th>baseline</th>\n",
       "      <th>RF</th>\n",
       "      <th>DT</th>\n",
       "      <th>DT2</th>\n",
       "    </tr>\n",
       "  </thead>\n",
       "  <tbody>\n",
       "    <tr>\n",
       "      <th>10242</th>\n",
       "      <td>1</td>\n",
       "      <td>0.768997</td>\n",
       "      <td>0.732986</td>\n",
       "      <td>0.68354</td>\n",
       "      <td>0.68354</td>\n",
       "    </tr>\n",
       "    <tr>\n",
       "      <th>2673</th>\n",
       "      <td>1</td>\n",
       "      <td>0.768997</td>\n",
       "      <td>0.732986</td>\n",
       "      <td>0.68354</td>\n",
       "      <td>0.68354</td>\n",
       "    </tr>\n",
       "    <tr>\n",
       "      <th>5201</th>\n",
       "      <td>2</td>\n",
       "      <td>0.768997</td>\n",
       "      <td>0.732986</td>\n",
       "      <td>0.68354</td>\n",
       "      <td>0.68354</td>\n",
       "    </tr>\n",
       "    <tr>\n",
       "      <th>11438</th>\n",
       "      <td>2</td>\n",
       "      <td>0.768997</td>\n",
       "      <td>0.732986</td>\n",
       "      <td>0.68354</td>\n",
       "      <td>0.68354</td>\n",
       "    </tr>\n",
       "    <tr>\n",
       "      <th>11556</th>\n",
       "      <td>3</td>\n",
       "      <td>0.768997</td>\n",
       "      <td>0.732986</td>\n",
       "      <td>0.68354</td>\n",
       "      <td>0.68354</td>\n",
       "    </tr>\n",
       "  </tbody>\n",
       "</table>\n",
       "</div>"
      ],
      "text/plain": [
       "       actual  baseline        RF       DT      DT2\n",
       "10242       1  0.768997  0.732986  0.68354  0.68354\n",
       "2673        1  0.768997  0.732986  0.68354  0.68354\n",
       "5201        2  0.768997  0.732986  0.68354  0.68354\n",
       "11438       2  0.768997  0.732986  0.68354  0.68354\n",
       "11556       3  0.768997  0.732986  0.68354  0.68354"
      ]
     },
     "execution_count": 31,
     "metadata": {},
     "output_type": "execute_result"
    }
   ],
   "source": [
    "predictions.head()"
   ]
  },
  {
   "cell_type": "markdown",
   "id": "7c267668",
   "metadata": {},
   "source": [
    "#### Model on validate"
   ]
  },
  {
   "cell_type": "code",
   "execution_count": 32,
   "id": "5895b345",
   "metadata": {},
   "outputs": [],
   "source": [
    "pred_Valid = pd.DataFrame({\n",
    "    'actual': y_validate.Casualty_class\n",
    "})"
   ]
  },
  {
   "cell_type": "code",
   "execution_count": 33,
   "id": "390929e9",
   "metadata": {},
   "outputs": [
    {
     "data": {
      "text/html": [
       "<div>\n",
       "<style scoped>\n",
       "    .dataframe tbody tr th:only-of-type {\n",
       "        vertical-align: middle;\n",
       "    }\n",
       "\n",
       "    .dataframe tbody tr th {\n",
       "        vertical-align: top;\n",
       "    }\n",
       "\n",
       "    .dataframe thead th {\n",
       "        text-align: right;\n",
       "    }\n",
       "</style>\n",
       "<table border=\"1\" class=\"dataframe\">\n",
       "  <thead>\n",
       "    <tr style=\"text-align: right;\">\n",
       "      <th></th>\n",
       "      <th>actual</th>\n",
       "      <th>baseline</th>\n",
       "    </tr>\n",
       "  </thead>\n",
       "  <tbody>\n",
       "    <tr>\n",
       "      <th>11303</th>\n",
       "      <td>2</td>\n",
       "      <td>0.768997</td>\n",
       "    </tr>\n",
       "    <tr>\n",
       "      <th>5288</th>\n",
       "      <td>1</td>\n",
       "      <td>0.768997</td>\n",
       "    </tr>\n",
       "    <tr>\n",
       "      <th>9481</th>\n",
       "      <td>1</td>\n",
       "      <td>0.768997</td>\n",
       "    </tr>\n",
       "    <tr>\n",
       "      <th>11479</th>\n",
       "      <td>1</td>\n",
       "      <td>0.768997</td>\n",
       "    </tr>\n",
       "    <tr>\n",
       "      <th>8266</th>\n",
       "      <td>1</td>\n",
       "      <td>0.768997</td>\n",
       "    </tr>\n",
       "  </tbody>\n",
       "</table>\n",
       "</div>"
      ],
      "text/plain": [
       "       actual  baseline\n",
       "11303       2  0.768997\n",
       "5288        1  0.768997\n",
       "9481        1  0.768997\n",
       "11479       1  0.768997\n",
       "8266        1  0.768997"
      ]
     },
     "execution_count": 33,
     "metadata": {},
     "output_type": "execute_result"
    }
   ],
   "source": [
    "pred_Valid['baseline'] = train[train['Casualty_class'] == 1].shape[0] /train.shape[0]\n",
    "pred_Valid.head()"
   ]
  },
  {
   "cell_type": "code",
   "execution_count": 34,
   "id": "45cea2cd",
   "metadata": {},
   "outputs": [],
   "source": [
    "# RF on valid and get RMSE\n",
    "pred_Valid['RF_Valid'] = forest1.predict(X_validate_fs)\n",
    "MSE = mean_squared_error(pred_Valid.actual, pred_Valid.RF_Valid)\n",
    "RMSE = math.sqrt(MSE)\n",
    "pred_Valid['RF_Valid'] = RMSE"
   ]
  },
  {
   "cell_type": "code",
   "execution_count": 35,
   "id": "3648f56f",
   "metadata": {},
   "outputs": [],
   "source": [
    "# dt on valid and get RMSE\n",
    "pred_Valid['DT_Valid'] = tree1.predict(X_validate_fs)\n",
    "MSE = mean_squared_error(pred_Valid.actual, pred_Valid.DT_Valid)\n",
    "RMSE = math.sqrt(MSE)\n",
    "pred_Valid['DT_Valid'] = RMSE"
   ]
  },
  {
   "cell_type": "code",
   "execution_count": 36,
   "id": "ff612408",
   "metadata": {},
   "outputs": [],
   "source": [
    "# dt2 on valid and get RMSE\n",
    "pred_Valid['DT2_Valid'] = tree2.predict(X_validate_fs)\n",
    "MSE = mean_squared_error(pred_Valid.actual, pred_Valid.DT2_Valid)\n",
    "RMSE = math.sqrt(MSE)\n",
    "pred_Valid['DT2_Valid'] = RMSE"
   ]
  },
  {
   "cell_type": "code",
   "execution_count": 37,
   "id": "8fa1de29",
   "metadata": {},
   "outputs": [
    {
     "data": {
      "text/html": [
       "<div>\n",
       "<style scoped>\n",
       "    .dataframe tbody tr th:only-of-type {\n",
       "        vertical-align: middle;\n",
       "    }\n",
       "\n",
       "    .dataframe tbody tr th {\n",
       "        vertical-align: top;\n",
       "    }\n",
       "\n",
       "    .dataframe thead th {\n",
       "        text-align: right;\n",
       "    }\n",
       "</style>\n",
       "<table border=\"1\" class=\"dataframe\">\n",
       "  <thead>\n",
       "    <tr style=\"text-align: right;\">\n",
       "      <th></th>\n",
       "      <th>actual</th>\n",
       "      <th>baseline</th>\n",
       "      <th>RF_Valid</th>\n",
       "      <th>DT_Valid</th>\n",
       "      <th>DT2_Valid</th>\n",
       "    </tr>\n",
       "  </thead>\n",
       "  <tbody>\n",
       "    <tr>\n",
       "      <th>11303</th>\n",
       "      <td>2</td>\n",
       "      <td>0.768997</td>\n",
       "      <td>0.75388</td>\n",
       "      <td>0.724592</td>\n",
       "      <td>0.724592</td>\n",
       "    </tr>\n",
       "    <tr>\n",
       "      <th>5288</th>\n",
       "      <td>1</td>\n",
       "      <td>0.768997</td>\n",
       "      <td>0.75388</td>\n",
       "      <td>0.724592</td>\n",
       "      <td>0.724592</td>\n",
       "    </tr>\n",
       "    <tr>\n",
       "      <th>9481</th>\n",
       "      <td>1</td>\n",
       "      <td>0.768997</td>\n",
       "      <td>0.75388</td>\n",
       "      <td>0.724592</td>\n",
       "      <td>0.724592</td>\n",
       "    </tr>\n",
       "    <tr>\n",
       "      <th>11479</th>\n",
       "      <td>1</td>\n",
       "      <td>0.768997</td>\n",
       "      <td>0.75388</td>\n",
       "      <td>0.724592</td>\n",
       "      <td>0.724592</td>\n",
       "    </tr>\n",
       "    <tr>\n",
       "      <th>8266</th>\n",
       "      <td>1</td>\n",
       "      <td>0.768997</td>\n",
       "      <td>0.75388</td>\n",
       "      <td>0.724592</td>\n",
       "      <td>0.724592</td>\n",
       "    </tr>\n",
       "  </tbody>\n",
       "</table>\n",
       "</div>"
      ],
      "text/plain": [
       "       actual  baseline  RF_Valid  DT_Valid  DT2_Valid\n",
       "11303       2  0.768997   0.75388  0.724592   0.724592\n",
       "5288        1  0.768997   0.75388  0.724592   0.724592\n",
       "9481        1  0.768997   0.75388  0.724592   0.724592\n",
       "11479       1  0.768997   0.75388  0.724592   0.724592\n",
       "8266        1  0.768997   0.75388  0.724592   0.724592"
      ]
     },
     "execution_count": 37,
     "metadata": {},
     "output_type": "execute_result"
    }
   ],
   "source": [
    "pred_Valid.head()"
   ]
  },
  {
   "cell_type": "markdown",
   "id": "1f6ef451",
   "metadata": {},
   "source": [
    "### Test \n",
    "\n",
    "Random forest model was the best on validate"
   ]
  },
  {
   "cell_type": "code",
   "execution_count": 38,
   "id": "838d80ab",
   "metadata": {},
   "outputs": [
    {
     "data": {
      "text/html": [
       "<div>\n",
       "<style scoped>\n",
       "    .dataframe tbody tr th:only-of-type {\n",
       "        vertical-align: middle;\n",
       "    }\n",
       "\n",
       "    .dataframe tbody tr th {\n",
       "        vertical-align: top;\n",
       "    }\n",
       "\n",
       "    .dataframe thead th {\n",
       "        text-align: right;\n",
       "    }\n",
       "</style>\n",
       "<table border=\"1\" class=\"dataframe\">\n",
       "  <thead>\n",
       "    <tr style=\"text-align: right;\">\n",
       "      <th></th>\n",
       "      <th>actual</th>\n",
       "      <th>baseline</th>\n",
       "    </tr>\n",
       "  </thead>\n",
       "  <tbody>\n",
       "    <tr>\n",
       "      <th>6199</th>\n",
       "      <td>1</td>\n",
       "      <td>0.768997</td>\n",
       "    </tr>\n",
       "    <tr>\n",
       "      <th>10283</th>\n",
       "      <td>3</td>\n",
       "      <td>0.768997</td>\n",
       "    </tr>\n",
       "    <tr>\n",
       "      <th>3539</th>\n",
       "      <td>3</td>\n",
       "      <td>0.768997</td>\n",
       "    </tr>\n",
       "    <tr>\n",
       "      <th>5794</th>\n",
       "      <td>3</td>\n",
       "      <td>0.768997</td>\n",
       "    </tr>\n",
       "    <tr>\n",
       "      <th>10043</th>\n",
       "      <td>2</td>\n",
       "      <td>0.768997</td>\n",
       "    </tr>\n",
       "  </tbody>\n",
       "</table>\n",
       "</div>"
      ],
      "text/plain": [
       "       actual  baseline\n",
       "6199        1  0.768997\n",
       "10283       3  0.768997\n",
       "3539        3  0.768997\n",
       "5794        3  0.768997\n",
       "10043       2  0.768997"
      ]
     },
     "execution_count": 38,
     "metadata": {},
     "output_type": "execute_result"
    }
   ],
   "source": [
    "# df to hold predictions \n",
    "pred_Test = pd.DataFrame({\n",
    "    'actual': y_test.Casualty_class\n",
    "})\n",
    "pred_Test['baseline'] = train[train['Casualty_class'] == 1].shape[0] /train.shape[0]\n",
    "pred_Test.head()"
   ]
  },
  {
   "cell_type": "code",
   "execution_count": 39,
   "id": "27d68e3f",
   "metadata": {},
   "outputs": [
    {
     "data": {
      "text/html": [
       "<div>\n",
       "<style scoped>\n",
       "    .dataframe tbody tr th:only-of-type {\n",
       "        vertical-align: middle;\n",
       "    }\n",
       "\n",
       "    .dataframe tbody tr th {\n",
       "        vertical-align: top;\n",
       "    }\n",
       "\n",
       "    .dataframe thead th {\n",
       "        text-align: right;\n",
       "    }\n",
       "</style>\n",
       "<table border=\"1\" class=\"dataframe\">\n",
       "  <thead>\n",
       "    <tr style=\"text-align: right;\">\n",
       "      <th></th>\n",
       "      <th>actual</th>\n",
       "      <th>baseline</th>\n",
       "      <th>RF_Test</th>\n",
       "    </tr>\n",
       "  </thead>\n",
       "  <tbody>\n",
       "    <tr>\n",
       "      <th>6199</th>\n",
       "      <td>1</td>\n",
       "      <td>0.768997</td>\n",
       "      <td>0.749459</td>\n",
       "    </tr>\n",
       "    <tr>\n",
       "      <th>10283</th>\n",
       "      <td>3</td>\n",
       "      <td>0.768997</td>\n",
       "      <td>0.749459</td>\n",
       "    </tr>\n",
       "    <tr>\n",
       "      <th>3539</th>\n",
       "      <td>3</td>\n",
       "      <td>0.768997</td>\n",
       "      <td>0.749459</td>\n",
       "    </tr>\n",
       "    <tr>\n",
       "      <th>5794</th>\n",
       "      <td>3</td>\n",
       "      <td>0.768997</td>\n",
       "      <td>0.749459</td>\n",
       "    </tr>\n",
       "    <tr>\n",
       "      <th>10043</th>\n",
       "      <td>2</td>\n",
       "      <td>0.768997</td>\n",
       "      <td>0.749459</td>\n",
       "    </tr>\n",
       "  </tbody>\n",
       "</table>\n",
       "</div>"
      ],
      "text/plain": [
       "       actual  baseline   RF_Test\n",
       "6199        1  0.768997  0.749459\n",
       "10283       3  0.768997  0.749459\n",
       "3539        3  0.768997  0.749459\n",
       "5794        3  0.768997  0.749459\n",
       "10043       2  0.768997  0.749459"
      ]
     },
     "execution_count": 39,
     "metadata": {},
     "output_type": "execute_result"
    }
   ],
   "source": [
    "pred_Test['RF_Test'] = forest1.predict(X_test_fs)\n",
    "MSE = mean_squared_error(pred_Test.actual, pred_Test.RF_Test)\n",
    "RMSE = math.sqrt(MSE)\n",
    "pred_Test['RF_Test'] = RMSE\n",
    "pred_Test.head()"
   ]
  },
  {
   "cell_type": "code",
   "execution_count": 40,
   "id": "61805dea",
   "metadata": {},
   "outputs": [],
   "source": [
    "# ugh, this was the worst data set to use"
   ]
  }
 ],
 "metadata": {
  "kernelspec": {
   "display_name": "Python 3 (ipykernel)",
   "language": "python",
   "name": "python3"
  },
  "language_info": {
   "codemirror_mode": {
    "name": "ipython",
    "version": 3
   },
   "file_extension": ".py",
   "mimetype": "text/x-python",
   "name": "python",
   "nbconvert_exporter": "python",
   "pygments_lexer": "ipython3",
   "version": "3.9.12"
  }
 },
 "nbformat": 4,
 "nbformat_minor": 5
}
