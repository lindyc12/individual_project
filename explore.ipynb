{
 "cells": [
  {
   "cell_type": "code",
   "execution_count": 1,
   "id": "e04378ff",
   "metadata": {},
   "outputs": [],
   "source": [
    "# Mathematical functions\n",
    "import math\n",
    "from scipy import stats \n",
    "# Data manipulation\n",
    "import numpy as np\n",
    "import pandas as pd\n",
    "\n",
    "# Plotting and visualization\n",
    "import matplotlib.pyplot as plt\n",
    "import seaborn as sns\n",
    "\n",
    "# Missing data imputation\n",
    "from sklearn.experimental import enable_iterative_imputer\n",
    "from sklearn.impute import SimpleImputer, KNNImputer, IterativeImputer\n",
    "from io import StringIO \n",
    "\n",
    "# Categorical data encoding\n",
    "from sklearn.preprocessing import LabelEncoder\n",
    "\n",
    "# Train-test split and k-fold cross validation\n",
    "from sklearn.model_selection import train_test_split\n",
    "\n",
    "# Feature selection\n",
    "from sklearn.feature_selection import SelectKBest, chi2, mutual_info_classif\n",
    "\n",
    "\n",
    "# Classification algorithms\n",
    "from sklearn.tree import DecisionTreeClassifier\n",
    "from sklearn.ensemble import RandomForestClassifier, ExtraTreesClassifier\n",
    "\n",
    "# Model evaluation\n",
    "from sklearn import metrics\n",
    "from sklearn.metrics import f1_score\n",
    "\n",
    "# Explainable AI\n",
    "!pip install --quiet shap==0.39.0\n",
    "import shap\n",
    "\n",
    "# Warning suppression\n",
    "import warnings\n",
    "warnings.filterwarnings('ignore')\n",
    "import acquire\n",
    "import prepare "
   ]
  },
  {
   "cell_type": "markdown",
   "id": "97a5b1ef",
   "metadata": {},
   "source": [
    "Acquire CSV"
   ]
  },
  {
   "cell_type": "code",
   "execution_count": 2,
   "id": "bbf8b8cd",
   "metadata": {},
   "outputs": [],
   "source": [
    "get = acquire.get_data()"
   ]
  },
  {
   "cell_type": "markdown",
   "id": "51ab3d9b",
   "metadata": {},
   "source": [
    "Prepare"
   ]
  },
  {
   "cell_type": "code",
   "execution_count": 3,
   "id": "9d9c34be",
   "metadata": {},
   "outputs": [
    {
     "data": {
      "text/html": [
       "<div>\n",
       "<style scoped>\n",
       "    .dataframe tbody tr th:only-of-type {\n",
       "        vertical-align: middle;\n",
       "    }\n",
       "\n",
       "    .dataframe tbody tr th {\n",
       "        vertical-align: top;\n",
       "    }\n",
       "\n",
       "    .dataframe thead th {\n",
       "        text-align: right;\n",
       "    }\n",
       "</style>\n",
       "<table border=\"1\" class=\"dataframe\">\n",
       "  <thead>\n",
       "    <tr style=\"text-align: right;\">\n",
       "      <th></th>\n",
       "      <th>Driving_experience</th>\n",
       "      <th>Number_of_vehicles_involved</th>\n",
       "      <th>Number_of_casualties</th>\n",
       "      <th>Casualty_class</th>\n",
       "      <th>Area_accident_occured_  Recreational areas</th>\n",
       "      <th>Area_accident_occured_ Church areas</th>\n",
       "      <th>Area_accident_occured_ Hospital areas</th>\n",
       "      <th>Area_accident_occured_ Industrial areas</th>\n",
       "      <th>Area_accident_occured_ Outside rural areas</th>\n",
       "      <th>Area_accident_occured_Office areas</th>\n",
       "      <th>...</th>\n",
       "      <th>Age_band_of_driver_Over 51</th>\n",
       "      <th>Age_band_of_driver_Under 18</th>\n",
       "      <th>Age_band_of_driver_Unknown</th>\n",
       "      <th>Sex_of_casualty_Male</th>\n",
       "      <th>Accident_severity_Serious Injury</th>\n",
       "      <th>Accident_severity_Slight Injury</th>\n",
       "      <th>Educational_level_Elementary school</th>\n",
       "      <th>Educational_level_High school</th>\n",
       "      <th>Educational_level_Junior high school</th>\n",
       "      <th>Educational_level_Writing &amp; reading</th>\n",
       "    </tr>\n",
       "  </thead>\n",
       "  <tbody>\n",
       "    <tr>\n",
       "      <th>0</th>\n",
       "      <td>2</td>\n",
       "      <td>2</td>\n",
       "      <td>2</td>\n",
       "      <td>Driver or rider</td>\n",
       "      <td>0</td>\n",
       "      <td>0</td>\n",
       "      <td>0</td>\n",
       "      <td>0</td>\n",
       "      <td>0</td>\n",
       "      <td>0</td>\n",
       "      <td>...</td>\n",
       "      <td>0</td>\n",
       "      <td>0</td>\n",
       "      <td>0</td>\n",
       "      <td>0</td>\n",
       "      <td>0</td>\n",
       "      <td>1</td>\n",
       "      <td>0</td>\n",
       "      <td>0</td>\n",
       "      <td>0</td>\n",
       "      <td>0</td>\n",
       "    </tr>\n",
       "    <tr>\n",
       "      <th>1</th>\n",
       "      <td>5</td>\n",
       "      <td>2</td>\n",
       "      <td>2</td>\n",
       "      <td>Driver or rider</td>\n",
       "      <td>0</td>\n",
       "      <td>0</td>\n",
       "      <td>0</td>\n",
       "      <td>0</td>\n",
       "      <td>0</td>\n",
       "      <td>1</td>\n",
       "      <td>...</td>\n",
       "      <td>0</td>\n",
       "      <td>0</td>\n",
       "      <td>0</td>\n",
       "      <td>0</td>\n",
       "      <td>0</td>\n",
       "      <td>1</td>\n",
       "      <td>0</td>\n",
       "      <td>0</td>\n",
       "      <td>1</td>\n",
       "      <td>0</td>\n",
       "    </tr>\n",
       "    <tr>\n",
       "      <th>2</th>\n",
       "      <td>2</td>\n",
       "      <td>2</td>\n",
       "      <td>2</td>\n",
       "      <td>Driver or rider</td>\n",
       "      <td>1</td>\n",
       "      <td>0</td>\n",
       "      <td>0</td>\n",
       "      <td>0</td>\n",
       "      <td>0</td>\n",
       "      <td>0</td>\n",
       "      <td>...</td>\n",
       "      <td>0</td>\n",
       "      <td>0</td>\n",
       "      <td>0</td>\n",
       "      <td>1</td>\n",
       "      <td>1</td>\n",
       "      <td>0</td>\n",
       "      <td>0</td>\n",
       "      <td>0</td>\n",
       "      <td>1</td>\n",
       "      <td>0</td>\n",
       "    </tr>\n",
       "    <tr>\n",
       "      <th>3</th>\n",
       "      <td>4</td>\n",
       "      <td>2</td>\n",
       "      <td>2</td>\n",
       "      <td>Pedestrian</td>\n",
       "      <td>0</td>\n",
       "      <td>0</td>\n",
       "      <td>0</td>\n",
       "      <td>0</td>\n",
       "      <td>0</td>\n",
       "      <td>1</td>\n",
       "      <td>...</td>\n",
       "      <td>0</td>\n",
       "      <td>0</td>\n",
       "      <td>0</td>\n",
       "      <td>0</td>\n",
       "      <td>0</td>\n",
       "      <td>1</td>\n",
       "      <td>0</td>\n",
       "      <td>0</td>\n",
       "      <td>1</td>\n",
       "      <td>0</td>\n",
       "    </tr>\n",
       "    <tr>\n",
       "      <th>4</th>\n",
       "      <td>3</td>\n",
       "      <td>2</td>\n",
       "      <td>2</td>\n",
       "      <td>Driver or rider</td>\n",
       "      <td>0</td>\n",
       "      <td>0</td>\n",
       "      <td>0</td>\n",
       "      <td>1</td>\n",
       "      <td>0</td>\n",
       "      <td>0</td>\n",
       "      <td>...</td>\n",
       "      <td>0</td>\n",
       "      <td>0</td>\n",
       "      <td>0</td>\n",
       "      <td>0</td>\n",
       "      <td>0</td>\n",
       "      <td>1</td>\n",
       "      <td>0</td>\n",
       "      <td>0</td>\n",
       "      <td>1</td>\n",
       "      <td>0</td>\n",
       "    </tr>\n",
       "  </tbody>\n",
       "</table>\n",
       "<p>5 rows × 41 columns</p>\n",
       "</div>"
      ],
      "text/plain": [
       "   Driving_experience  Number_of_vehicles_involved  Number_of_casualties  \\\n",
       "0                   2                            2                     2   \n",
       "1                   5                            2                     2   \n",
       "2                   2                            2                     2   \n",
       "3                   4                            2                     2   \n",
       "4                   3                            2                     2   \n",
       "\n",
       "    Casualty_class  Area_accident_occured_  Recreational areas  \\\n",
       "0  Driver or rider                                           0   \n",
       "1  Driver or rider                                           0   \n",
       "2  Driver or rider                                           1   \n",
       "3       Pedestrian                                           0   \n",
       "4  Driver or rider                                           0   \n",
       "\n",
       "   Area_accident_occured_ Church areas  Area_accident_occured_ Hospital areas  \\\n",
       "0                                    0                                      0   \n",
       "1                                    0                                      0   \n",
       "2                                    0                                      0   \n",
       "3                                    0                                      0   \n",
       "4                                    0                                      0   \n",
       "\n",
       "   Area_accident_occured_ Industrial areas  \\\n",
       "0                                        0   \n",
       "1                                        0   \n",
       "2                                        0   \n",
       "3                                        0   \n",
       "4                                        1   \n",
       "\n",
       "   Area_accident_occured_ Outside rural areas  \\\n",
       "0                                           0   \n",
       "1                                           0   \n",
       "2                                           0   \n",
       "3                                           0   \n",
       "4                                           0   \n",
       "\n",
       "   Area_accident_occured_Office areas  ...  Age_band_of_driver_Over 51  \\\n",
       "0                                   0  ...                           0   \n",
       "1                                   1  ...                           0   \n",
       "2                                   0  ...                           0   \n",
       "3                                   1  ...                           0   \n",
       "4                                   0  ...                           0   \n",
       "\n",
       "   Age_band_of_driver_Under 18  Age_band_of_driver_Unknown  \\\n",
       "0                            0                           0   \n",
       "1                            0                           0   \n",
       "2                            0                           0   \n",
       "3                            0                           0   \n",
       "4                            0                           0   \n",
       "\n",
       "   Sex_of_casualty_Male  Accident_severity_Serious Injury  \\\n",
       "0                     0                                 0   \n",
       "1                     0                                 0   \n",
       "2                     1                                 1   \n",
       "3                     0                                 0   \n",
       "4                     0                                 0   \n",
       "\n",
       "   Accident_severity_Slight Injury  Educational_level_Elementary school  \\\n",
       "0                                1                                    0   \n",
       "1                                1                                    0   \n",
       "2                                0                                    0   \n",
       "3                                1                                    0   \n",
       "4                                1                                    0   \n",
       "\n",
       "   Educational_level_High school  Educational_level_Junior high school  \\\n",
       "0                              0                                     0   \n",
       "1                              0                                     1   \n",
       "2                              0                                     1   \n",
       "3                              0                                     1   \n",
       "4                              0                                     1   \n",
       "\n",
       "   Educational_level_Writing & reading  \n",
       "0                                    0  \n",
       "1                                    0  \n",
       "2                                    0  \n",
       "3                                    0  \n",
       "4                                    0  \n",
       "\n",
       "[5 rows x 41 columns]"
      ]
     },
     "execution_count": 3,
     "metadata": {},
     "output_type": "execute_result"
    }
   ],
   "source": [
    "df = prepare.prep_data(get)\n",
    "df.head()"
   ]
  },
  {
   "cell_type": "code",
   "execution_count": null,
   "id": "db2b079f",
   "metadata": {},
   "outputs": [],
   "source": [
    "df.Casualty_severity.value_counts()"
   ]
  },
  {
   "cell_type": "code",
   "execution_count": null,
   "id": "67e240f3",
   "metadata": {},
   "outputs": [],
   "source": [
    "# number of duplicate rows\n",
    "duplicate = df[df.duplicated() == True]\n",
    "print(\"# of duplicate rows: {}\".format(len(duplicate)))"
   ]
  },
  {
   "cell_type": "code",
   "execution_count": null,
   "id": "159bbcdb",
   "metadata": {},
   "outputs": [],
   "source": [
    "# number of missing values in columns\n",
    "df.Educational_level.value_counts()"
   ]
  },
  {
   "cell_type": "code",
   "execution_count": null,
   "id": "2b090238",
   "metadata": {},
   "outputs": [],
   "source": [
    "# plot target\n",
    "plt.figure(figsize = (14, 7))\n",
    "plt.subplot(1, 2, 1)\n",
    "sns.countplot(x = df['Casualty_class'])\n",
    "plt.xticks(fontsize = 14)\n",
    "plt.yticks(fontsize = 14)\n",
    "sns.despine(top = True, right = True)"
   ]
  },
  {
   "cell_type": "code",
   "execution_count": null,
   "id": "c651519e",
   "metadata": {},
   "outputs": [],
   "source": [
    "df = df.replace('Unknown or other', 'other')\n",
    "df = df.replace('Darkness - lights unlit', 'Darkness - no lighting')\n",
    "df['Age_band_of_casualty'] = df['Age_band_of_casualty'].replace('5', 'Under 18')"
   ]
  },
  {
   "cell_type": "code",
   "execution_count": null,
   "id": "464aa1aa",
   "metadata": {},
   "outputs": [],
   "source": [
    "df['Work_of_casuality'].isnull().sum()"
   ]
  },
  {
   "cell_type": "code",
   "execution_count": null,
   "id": "e0fb074d",
   "metadata": {},
   "outputs": [],
   "source": [
    "df.shape"
   ]
  },
  {
   "cell_type": "code",
   "execution_count": null,
   "id": "11c34ff0",
   "metadata": {},
   "outputs": [],
   "source": [
    "df.Casualty_severity.value_counts()"
   ]
  },
  {
   "cell_type": "code",
   "execution_count": null,
   "id": "5815e77e",
   "metadata": {},
   "outputs": [],
   "source": [
    "df['Age_band_of_casualty'].value_counts()"
   ]
  },
  {
   "cell_type": "code",
   "execution_count": null,
   "id": "aaa48dee",
   "metadata": {},
   "outputs": [],
   "source": [
    "# fill missing values with mode column values\n",
    "df['Driving_experience'].fillna(df['Driving_experience'].mode()[0], inplace=True)\n",
    "df['Age_band_of_driver'].fillna(df['Age_band_of_driver'].mode()[0], inplace=True)\n",
    "df['Age_band_of_casualty'].fillna(df['Age_band_of_casualty'].mode()[0], inplace=True)\n",
    "df['Type_of_vehicle'].fillna(df['Type_of_vehicle'].mode()[0], inplace=True)\n",
    "df['Area_accident_occured'].fillna(df['Area_accident_occured'].mode()[0], inplace=True)\n",
    "df['Road_allignment'].fillna(df['Road_allignment'].mode()[0], inplace=True)\n",
    "df['Type_of_collision'].fillna(df['Type_of_collision'].mode()[0], inplace=True)\n",
    "df['Vehicle_movement'].fillna(df['Vehicle_movement'].mode()[0], inplace=True)\n",
    "df['Lanes_or_Medians'].fillna(df['Lanes_or_Medians'].mode()[0], inplace=True)\n",
    "df['Types_of_Junction'].fillna(df['Types_of_Junction'].mode()[0], inplace=True)"
   ]
  },
  {
   "cell_type": "code",
   "execution_count": null,
   "id": "62833edc",
   "metadata": {},
   "outputs": [],
   "source": [
    "def prop_imputer(df):\n",
    "    df_prop = df.copy(deep = True)\n",
    "    missing_cols = df_prop.isna().sum()[df_prop.isna().sum() != 0].index.tolist()\n",
    "    for col in missing_cols:\n",
    "        values_col = df_prop[col].value_counts(normalize = True).index.tolist()\n",
    "        probabilities_col = df_prop[col].value_counts(normalize = True).values.tolist()\n",
    "        df_prop[col] = df_prop[col].fillna(pd.Series(np.random.choice(values_col, p = probabilities_col, size = len(df))))\n",
    "    return df_prop"
   ]
  },
  {
   "cell_type": "code",
   "execution_count": null,
   "id": "d1a28f6f",
   "metadata": {},
   "outputs": [],
   "source": [
    "df_imp = prop_imputer(df)"
   ]
  },
  {
   "cell_type": "code",
   "execution_count": null,
   "id": "649fcb4a",
   "metadata": {},
   "outputs": [],
   "source": [
    "df = df_imp\n",
    "df.isnull().sum()"
   ]
  },
  {
   "cell_type": "code",
   "execution_count": null,
   "id": "0b4feef1",
   "metadata": {},
   "outputs": [],
   "source": [
    "df.Casualty_severity.value_counts()"
   ]
  },
  {
   "cell_type": "code",
   "execution_count": null,
   "id": "3798f00a",
   "metadata": {},
   "outputs": [],
   "source": [
    "df.Accident_severity.value_counts()"
   ]
  },
  {
   "cell_type": "code",
   "execution_count": null,
   "id": "3909041e",
   "metadata": {},
   "outputs": [],
   "source": [
    "# encode\n",
    "#df['Age_band_of_driver'] = df.Age_band_of_driver.map({'Under 18' : 1, '18-30' : 2, '31-50' : 3, 'Over 51' : 4, 'Unknown' : 10})\n",
    "#df['Educational_level'] = df.Educational_level.map({'Illiterate' : 1, 'Writing & reading' : 2, 'Elementary school' : 3, 'Junior high school' : 4, 'High school' : 5, 'Above high school' : 6, 'Unknown' : 10})\n",
    "df['Driving_experience'] = df.Driving_experience.map({'Below 1yr' : 1, '1-2yr' : 2, '2-5yr' : 3, '5-10yr' : 4, 'Above 10yr' : 5, 'No Licence' : 0, 'unknown' : 10})\n",
    "#df['Light_conditions'] = df.Light_conditions.map({'Darkness - no lighting' : 1, 'Darkness - lights lit' : 2, 'Daylight' : 3})\n",
    "#df['Age_band_of_casualty'] = df.Age_band_of_casualty.map({'Under 18' : 1, '18-30' : 2, '31-50' : 3, 'Over 51' : 4, 'na' : 10})\n",
    "#df['Casualty_severity'] = df.Casualty_severity.map({'1' : 1, '2' : 2, '3' : 3, 'NaN' : 10})\n",
    "#df['Accident_severity'] = df.Accident_severity.map({'Slight Injury' : 1, 'Serious Injury' : 2, 'Fatal injury' : 3})\n",
    "df.head(10)"
   ]
  },
  {
   "cell_type": "code",
   "execution_count": null,
   "id": "2c95679c",
   "metadata": {},
   "outputs": [],
   "source": [
    "dummy_df = pd.get_dummies(df[['Area_accident_occured', \\\n",
    "                              'Weather_conditions', \\\n",
    "                              'Light_conditions', \\\n",
    "                              'Age_band_of_casualty', \\\n",
    "                              'Age_band_of_driver', \\\n",
    "                              'Sex_of_casualty',\\\n",
    "                              'Casualty_severity',\\\n",
    "                              'Accident_severity',\\\n",
    "                              'Educational_level']], dummy_na=False, \\\n",
    "                              drop_first=True)\n",
    "    \n",
    "    # Concat dummy dataframe to original \n",
    "df = pd.concat([df, dummy_df], axis=1)"
   ]
  },
  {
   "cell_type": "code",
   "execution_count": null,
   "id": "ca91f334",
   "metadata": {},
   "outputs": [],
   "source": [
    "df = df.drop(['Area_accident_occured', 'Accident_severity', 'Educational_level', 'Light_conditions', 'Weather_conditions', 'Age_band_of_casualty', 'Age_band_of_driver', 'Educational_level_Unknown', 'Educational_level_Illiterate', 'Time', 'Lanes_or_Medians', 'Vehicle_movement', 'Types_of_Junction', 'Pedestrian_movement', 'Cause_of_accident', 'Type_of_collision', 'Vehicle_driver_relation', 'Type_of_vehicle', 'Road_surface_type', 'Road_surface_conditions', 'Day_of_week','Road_allignment', 'Fitness_of_casuality', 'Work_of_casuality', 'Sex_of_driver', 'Sex_of_casualty', 'Defect_of_vehicle', 'Owner_of_vehicle', 'Service_year_of_vehicle', 'Road_surface_type'], axis=1)\n",
    "\n"
   ]
  },
  {
   "cell_type": "code",
   "execution_count": null,
   "id": "c6b43caf",
   "metadata": {},
   "outputs": [],
   "source": [
    "df = df.drop(['Area_accident_occured'], axis=1)"
   ]
  },
  {
   "cell_type": "code",
   "execution_count": null,
   "id": "706ad58c",
   "metadata": {},
   "outputs": [],
   "source": [
    "df.columns"
   ]
  },
  {
   "cell_type": "code",
   "execution_count": null,
   "id": "96a3b1f1",
   "metadata": {},
   "outputs": [],
   "source": [
    "df.Educational_level.value_counts()"
   ]
  },
  {
   "cell_type": "code",
   "execution_count": null,
   "id": "79fd9c96",
   "metadata": {
    "scrolled": true
   },
   "outputs": [],
   "source": [
    "train.Work_of_casuality.value_counts()"
   ]
  },
  {
   "cell_type": "markdown",
   "id": "906f4243",
   "metadata": {},
   "source": [
    "#### Explore"
   ]
  },
  {
   "cell_type": "code",
   "execution_count": 4,
   "id": "488de948",
   "metadata": {},
   "outputs": [],
   "source": [
    "# split data and explore on train\n",
    "def split(df, stratify_by='Casualty_class'):\n",
    "    # split df into train_validate \n",
    "    train_validate, test = train_test_split(df, test_size=.20, random_state=13)\n",
    "    train, validate = train_test_split(train_validate, test_size=.3, random_state=13)\n",
    "\n",
    "    X_train = train.drop(columns=['Casualty_class'])\n",
    "    y_train = train[['Casualty_class']]\n",
    "\n",
    "    X_validate = validate.drop(columns=['Casualty_class'])\n",
    "    y_validate = validate[['Casualty_class']]\n",
    "\n",
    "    X_test = test.drop(columns=['Casualty_class'])\n",
    "    y_test = test[['Casualty_class']]\n",
    "\n",
    "    return train, X_train, X_validate, X_test, y_train, y_validate, y_test"
   ]
  },
  {
   "cell_type": "code",
   "execution_count": 5,
   "id": "3510b29a",
   "metadata": {},
   "outputs": [],
   "source": [
    "train, X_train, X_validate, X_test, y_train, y_validate, y_test = split(df, stratify_by='Casualty_class')"
   ]
  },
  {
   "cell_type": "code",
   "execution_count": null,
   "id": "5c03c403",
   "metadata": {},
   "outputs": [],
   "source": [
    "plt.figure(figsize=[25,15])\n",
    "sns.heatmap(df.corr(),annot=True)"
   ]
  },
  {
   "cell_type": "markdown",
   "id": "129b546f",
   "metadata": {},
   "source": [
    "Not much correlation between varibles "
   ]
  },
  {
   "cell_type": "code",
   "execution_count": null,
   "id": "61079431",
   "metadata": {},
   "outputs": [],
   "source": [
    "bins = ['0','0-5','6-10','11-15','16-20','21-25','26-35',\n",
    "           '36-45', '46-55','56-65','66-75','75+']\n",
    "\n",
    "plt.figure(figsize=(12,6))\n",
    "train.Age_band_of_casualty.hist(bins = 11,alpha=0.5,rwidth=0.90, color= 'red',)\n",
    "plt.title('Age of casualty in accidents', fontsize = 25)\n",
    "plt.grid(False)\n",
    "y_pos = np.arange(len(bins))\n",
    "plt.xticks(y_pos , bins)\n",
    "plt.ylabel('Accident #' , fontsize = 15)\n",
    "plt.xlabel('Age of casualty', fontsize = 15,)"
   ]
  },
  {
   "cell_type": "code",
   "execution_count": null,
   "id": "18c601aa",
   "metadata": {},
   "outputs": [],
   "source": [
    "train.columns"
   ]
  },
  {
   "cell_type": "code",
   "execution_count": null,
   "id": "2a7bfb10",
   "metadata": {},
   "outputs": [],
   "source": [
    "grid = sns.FacetGrid(data=train, col='Casualty_class', height=4, aspect=1, sharey=False)\n",
    "# mapping bar plot and the data on to the grid\n",
    "grid.map(sns.countplot, 'Light_conditions', palette=['black', 'brown', 'orange'])\n",
    "plt.show()"
   ]
  },
  {
   "cell_type": "markdown",
   "id": "bc730b4a",
   "metadata": {},
   "source": [
    "1 = dark and no lighting, 2 = dark with lighting, 3 = daytime\n",
    "\n",
    "a majority of accidents happen in the daytime and at night with lighting."
   ]
  },
  {
   "cell_type": "code",
   "execution_count": null,
   "id": "c85c2749",
   "metadata": {},
   "outputs": [],
   "source": [
    "target_count = train['Casualty_class'].value_counts()\n",
    "\n",
    "target_count.plot(kind='bar', title='Count (target)');"
   ]
  },
  {
   "cell_type": "code",
   "execution_count": null,
   "id": "f235450a",
   "metadata": {},
   "outputs": [],
   "source": [
    "train.columns"
   ]
  },
  {
   "cell_type": "code",
   "execution_count": null,
   "id": "6b0c61e7",
   "metadata": {},
   "outputs": [],
   "source": [
    "plt.figure(figsize=(10,7))\n",
    "sns.boxplot(data=df, y='Number_of_casualties', x='Residential areas')\n",
    "plt.show()"
   ]
  },
  {
   "cell_type": "code",
   "execution_count": null,
   "id": "aefb64a6",
   "metadata": {},
   "outputs": [],
   "source": [
    "plt.figure(figsize=(10,7))\n",
    "plt.pie(x=train['Casualty_class'].value_counts().values,\n",
    "        labels=train['Casualty_class'].value_counts().index,\n",
    "        autopct='%2.2f%%')\n",
    "plt.show()"
   ]
  },
  {
   "cell_type": "markdown",
   "id": "c5344660",
   "metadata": {},
   "source": [
    "#### Testing "
   ]
  },
  {
   "cell_type": "code",
   "execution_count": null,
   "id": "47ac43d2",
   "metadata": {},
   "outputs": [],
   "source": [
    "a=train.Casualty_class\n",
    "b=train.Light_conditions\n",
    "observed = pd.crosstab(a,b)\n",
    "observed"
   ]
  },
  {
   "cell_type": "markdown",
   "id": "240b8f8a",
   "metadata": {},
   "source": [
    "Ho - light conditions effects casualty class\n",
    "\n",
    "Ha - light conditions do not effect it "
   ]
  },
  {
   "cell_type": "code",
   "execution_count": null,
   "id": "3bd849dc",
   "metadata": {},
   "outputs": [],
   "source": [
    "chi2, p, degf, expected = stats.chi2_contingency(observed)\n",
    "alpha = 0.05\n",
    "print(f'chi2 = {chi2:.2f}')\n",
    "print(f'p value: {p:.4f}')\n",
    "if p < alpha:\n",
    "      print('We can reject the null hypothesis')\n",
    "else:\n",
    "    print('We fail to reject the null hypothesis')"
   ]
  },
  {
   "cell_type": "markdown",
   "id": "7fdbd2aa",
   "metadata": {},
   "source": [
    "Ho - Driving experiance effects casualty class\n",
    "\n",
    "Ha - Driving experiance does not effect it"
   ]
  },
  {
   "cell_type": "code",
   "execution_count": null,
   "id": "196939d5",
   "metadata": {},
   "outputs": [],
   "source": [
    "a2=train.Casualty_class\n",
    "b2=train.Driving_experience\n",
    "observed2 = pd.crosstab(a2,b2)\n",
    "observed2"
   ]
  },
  {
   "cell_type": "code",
   "execution_count": null,
   "id": "03635026",
   "metadata": {},
   "outputs": [],
   "source": [
    "chi2, p, degf, expected = stats.chi2_contingency(observed2)\n",
    "alpha = 0.05\n",
    "print(f'chi2 = {chi2:.2f}')\n",
    "print(f'p value: {p:.4f}')\n",
    "if p < alpha:\n",
    "      print('We can reject the null hypothesis')\n",
    "else:\n",
    "    print('We fail to reject the null hypothesis')"
   ]
  },
  {
   "cell_type": "code",
   "execution_count": null,
   "id": "b015c0f0",
   "metadata": {},
   "outputs": [],
   "source": [
    "df1 = train[train.isna().any(axis=1)]\n",
    "df1"
   ]
  },
  {
   "cell_type": "code",
   "execution_count": 8,
   "id": "cac46667",
   "metadata": {},
   "outputs": [],
   "source": [
    "# Chi-square feature selection\n",
    "def feature_chi2(X_train, X_validate, X_test, k = 5):\n",
    "     \n",
    "    # Feature selection\n",
    "    fs = SelectKBest(score_func = chi2, k = k)\n",
    "    fs.fit(X_train, y_train)\n",
    "    \n",
    "    # Selected columns\n",
    "    cols = fs.get_support(indices = True)\n",
    "    \n",
    "    # Output data\n",
    "    X_train_fs = X_train.iloc[:, cols]\n",
    "    X_validate_fs = X_validate.iloc[:, cols]\n",
    "    X_test_fs = X_test.iloc[:, cols]\n",
    "    \n",
    "    return X_train_fs, X_validate_fs, X_test_fs\n"
   ]
  },
  {
   "cell_type": "code",
   "execution_count": 9,
   "id": "cd3c3088",
   "metadata": {},
   "outputs": [],
   "source": [
    "X_train_fs, X_validate_fs, X_test_fs = feature_chi2(X_train, X_validate, X_test, k = 5)"
   ]
  },
  {
   "cell_type": "code",
   "execution_count": 10,
   "id": "e8030634",
   "metadata": {},
   "outputs": [
    {
     "data": {
      "text/html": [
       "<div>\n",
       "<style scoped>\n",
       "    .dataframe tbody tr th:only-of-type {\n",
       "        vertical-align: middle;\n",
       "    }\n",
       "\n",
       "    .dataframe tbody tr th {\n",
       "        vertical-align: top;\n",
       "    }\n",
       "\n",
       "    .dataframe thead th {\n",
       "        text-align: right;\n",
       "    }\n",
       "</style>\n",
       "<table border=\"1\" class=\"dataframe\">\n",
       "  <thead>\n",
       "    <tr style=\"text-align: right;\">\n",
       "      <th></th>\n",
       "      <th>Area_accident_occured_ Industrial areas</th>\n",
       "      <th>Age_band_of_casualty_31-50</th>\n",
       "      <th>Age_band_of_casualty_Over 51</th>\n",
       "      <th>Age_band_of_casualty_Under 18</th>\n",
       "      <th>Sex_of_casualty_Male</th>\n",
       "    </tr>\n",
       "  </thead>\n",
       "  <tbody>\n",
       "    <tr>\n",
       "      <th>10242</th>\n",
       "      <td>0</td>\n",
       "      <td>0</td>\n",
       "      <td>0</td>\n",
       "      <td>0</td>\n",
       "      <td>0</td>\n",
       "    </tr>\n",
       "    <tr>\n",
       "      <th>2673</th>\n",
       "      <td>0</td>\n",
       "      <td>0</td>\n",
       "      <td>0</td>\n",
       "      <td>0</td>\n",
       "      <td>0</td>\n",
       "    </tr>\n",
       "    <tr>\n",
       "      <th>5201</th>\n",
       "      <td>0</td>\n",
       "      <td>0</td>\n",
       "      <td>0</td>\n",
       "      <td>0</td>\n",
       "      <td>0</td>\n",
       "    </tr>\n",
       "    <tr>\n",
       "      <th>11438</th>\n",
       "      <td>0</td>\n",
       "      <td>1</td>\n",
       "      <td>0</td>\n",
       "      <td>0</td>\n",
       "      <td>0</td>\n",
       "    </tr>\n",
       "    <tr>\n",
       "      <th>11556</th>\n",
       "      <td>0</td>\n",
       "      <td>0</td>\n",
       "      <td>0</td>\n",
       "      <td>0</td>\n",
       "      <td>1</td>\n",
       "    </tr>\n",
       "  </tbody>\n",
       "</table>\n",
       "</div>"
      ],
      "text/plain": [
       "       Area_accident_occured_ Industrial areas  Age_band_of_casualty_31-50  \\\n",
       "10242                                        0                           0   \n",
       "2673                                         0                           0   \n",
       "5201                                         0                           0   \n",
       "11438                                        0                           1   \n",
       "11556                                        0                           0   \n",
       "\n",
       "       Age_band_of_casualty_Over 51  Age_band_of_casualty_Under 18  \\\n",
       "10242                             0                              0   \n",
       "2673                              0                              0   \n",
       "5201                              0                              0   \n",
       "11438                             0                              0   \n",
       "11556                             0                              0   \n",
       "\n",
       "       Sex_of_casualty_Male  \n",
       "10242                     0  \n",
       "2673                      0  \n",
       "5201                      0  \n",
       "11438                     0  \n",
       "11556                     1  "
      ]
     },
     "execution_count": 10,
     "metadata": {},
     "output_type": "execute_result"
    }
   ],
   "source": [
    "X_train_fs.head()"
   ]
  },
  {
   "cell_type": "code",
   "execution_count": null,
   "id": "a9fcb883",
   "metadata": {},
   "outputs": [],
   "source": [
    "train.head()"
   ]
  },
  {
   "cell_type": "code",
   "execution_count": null,
   "id": "8369987c",
   "metadata": {},
   "outputs": [],
   "source": [
    "train.head()"
   ]
  },
  {
   "cell_type": "code",
   "execution_count": null,
   "id": "7c81d8b6",
   "metadata": {},
   "outputs": [],
   "source": []
  }
 ],
 "metadata": {
  "kernelspec": {
   "display_name": "Python 3 (ipykernel)",
   "language": "python",
   "name": "python3"
  },
  "language_info": {
   "codemirror_mode": {
    "name": "ipython",
    "version": 3
   },
   "file_extension": ".py",
   "mimetype": "text/x-python",
   "name": "python",
   "nbconvert_exporter": "python",
   "pygments_lexer": "ipython3",
   "version": "3.9.12"
  }
 },
 "nbformat": 4,
 "nbformat_minor": 5
}
