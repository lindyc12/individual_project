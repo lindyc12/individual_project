{
 "cells": [
  {
   "cell_type": "code",
   "execution_count": 1,
   "id": "0f850907",
   "metadata": {},
   "outputs": [],
   "source": [
    "# Mathematical functions\n",
    "import math\n",
    "from scipy import stats \n",
    "# Data manipulation\n",
    "import numpy as np\n",
    "import pandas as pd\n",
    "\n",
    "# Plotting and visualization\n",
    "import matplotlib.pyplot as plt\n",
    "import seaborn as sns\n",
    "\n",
    "# Missing data imputation\n",
    "from sklearn.experimental import enable_iterative_imputer\n",
    "from sklearn.impute import SimpleImputer, KNNImputer, IterativeImputer\n",
    "from io import StringIO \n",
    "\n",
    "# Categorical data encoding\n",
    "from sklearn.preprocessing import LabelEncoder\n",
    "\n",
    "# Train-test split and k-fold cross validation\n",
    "from sklearn.model_selection import train_test_split\n",
    "\n",
    "# Feature selection\n",
    "from sklearn.feature_selection import SelectKBest, chi2, mutual_info_classif\n",
    "\n",
    "\n",
    "# Classification algorithms\n",
    "from sklearn.tree import DecisionTreeClassifier\n",
    "from sklearn.ensemble import RandomForestClassifier, ExtraTreesClassifier\n",
    "\n",
    "# Model evaluation\n",
    "from sklearn import metrics\n",
    "from sklearn.metrics import f1_score\n",
    "from sklearn.tree import DecisionTreeClassifier, plot_tree, export_text\n",
    "# Explainable AI\n",
    "!pip install --quiet shap==0.39.0\n",
    "import shap\n",
    "\n",
    "# Warning suppression\n",
    "import warnings\n",
    "warnings.filterwarnings('ignore')\n",
    "import acquire\n",
    "import prepare "
   ]
  },
  {
   "cell_type": "markdown",
   "id": "d9a7e035",
   "metadata": {},
   "source": [
    "Acquire CSV"
   ]
  },
  {
   "cell_type": "code",
   "execution_count": 2,
   "id": "b336cede",
   "metadata": {},
   "outputs": [],
   "source": [
    "get = acquire.get_data()"
   ]
  },
  {
   "cell_type": "markdown",
   "id": "e5c3eede",
   "metadata": {},
   "source": [
    "Prepare"
   ]
  },
  {
   "cell_type": "code",
   "execution_count": 3,
   "id": "b936c7f0",
   "metadata": {},
   "outputs": [
    {
     "data": {
      "text/html": [
       "<div>\n",
       "<style scoped>\n",
       "    .dataframe tbody tr th:only-of-type {\n",
       "        vertical-align: middle;\n",
       "    }\n",
       "\n",
       "    .dataframe tbody tr th {\n",
       "        vertical-align: top;\n",
       "    }\n",
       "\n",
       "    .dataframe thead th {\n",
       "        text-align: right;\n",
       "    }\n",
       "</style>\n",
       "<table border=\"1\" class=\"dataframe\">\n",
       "  <thead>\n",
       "    <tr style=\"text-align: right;\">\n",
       "      <th></th>\n",
       "      <th>Age_band_of_driver</th>\n",
       "      <th>Driving_experience</th>\n",
       "      <th>Area_accident_occured</th>\n",
       "      <th>Light_conditions</th>\n",
       "      <th>Number_of_vehicles_involved</th>\n",
       "      <th>Number_of_casualties</th>\n",
       "      <th>Casualty_class</th>\n",
       "      <th>Age_band_of_casualty</th>\n",
       "      <th>Casualty_severity</th>\n",
       "      <th>Fitness_of_casuality</th>\n",
       "      <th>...</th>\n",
       "      <th>Weather_conditions_Raining</th>\n",
       "      <th>Weather_conditions_Raining and Windy</th>\n",
       "      <th>Weather_conditions_Snow</th>\n",
       "      <th>Weather_conditions_Unknown</th>\n",
       "      <th>Weather_conditions_Windy</th>\n",
       "      <th>Sex_of_casualty_Male</th>\n",
       "      <th>Educational_level_Elementary</th>\n",
       "      <th>Educational_level_High School</th>\n",
       "      <th>Educational_level_High school</th>\n",
       "      <th>Educational_level_Junior High</th>\n",
       "    </tr>\n",
       "  </thead>\n",
       "  <tbody>\n",
       "    <tr>\n",
       "      <th>0</th>\n",
       "      <td>2</td>\n",
       "      <td>4</td>\n",
       "      <td>2</td>\n",
       "      <td>3</td>\n",
       "      <td>2</td>\n",
       "      <td>2</td>\n",
       "      <td>1</td>\n",
       "      <td>2</td>\n",
       "      <td>3.0</td>\n",
       "      <td>1</td>\n",
       "      <td>...</td>\n",
       "      <td>0</td>\n",
       "      <td>0</td>\n",
       "      <td>0</td>\n",
       "      <td>0</td>\n",
       "      <td>0</td>\n",
       "      <td>0</td>\n",
       "      <td>0</td>\n",
       "      <td>1</td>\n",
       "      <td>0</td>\n",
       "      <td>0</td>\n",
       "    </tr>\n",
       "    <tr>\n",
       "      <th>1</th>\n",
       "      <td>3</td>\n",
       "      <td>3</td>\n",
       "      <td>1</td>\n",
       "      <td>3</td>\n",
       "      <td>2</td>\n",
       "      <td>2</td>\n",
       "      <td>1</td>\n",
       "      <td>2</td>\n",
       "      <td>3.0</td>\n",
       "      <td>1</td>\n",
       "      <td>...</td>\n",
       "      <td>0</td>\n",
       "      <td>0</td>\n",
       "      <td>0</td>\n",
       "      <td>0</td>\n",
       "      <td>0</td>\n",
       "      <td>0</td>\n",
       "      <td>0</td>\n",
       "      <td>0</td>\n",
       "      <td>0</td>\n",
       "      <td>1</td>\n",
       "    </tr>\n",
       "    <tr>\n",
       "      <th>2</th>\n",
       "      <td>2</td>\n",
       "      <td>4</td>\n",
       "      <td>9</td>\n",
       "      <td>3</td>\n",
       "      <td>2</td>\n",
       "      <td>2</td>\n",
       "      <td>1</td>\n",
       "      <td>3</td>\n",
       "      <td>3.0</td>\n",
       "      <td>1</td>\n",
       "      <td>...</td>\n",
       "      <td>0</td>\n",
       "      <td>0</td>\n",
       "      <td>0</td>\n",
       "      <td>0</td>\n",
       "      <td>0</td>\n",
       "      <td>1</td>\n",
       "      <td>0</td>\n",
       "      <td>0</td>\n",
       "      <td>0</td>\n",
       "      <td>1</td>\n",
       "    </tr>\n",
       "    <tr>\n",
       "      <th>3</th>\n",
       "      <td>2</td>\n",
       "      <td>1</td>\n",
       "      <td>1</td>\n",
       "      <td>2</td>\n",
       "      <td>2</td>\n",
       "      <td>2</td>\n",
       "      <td>2</td>\n",
       "      <td>2</td>\n",
       "      <td>3.0</td>\n",
       "      <td>1</td>\n",
       "      <td>...</td>\n",
       "      <td>0</td>\n",
       "      <td>0</td>\n",
       "      <td>0</td>\n",
       "      <td>0</td>\n",
       "      <td>0</td>\n",
       "      <td>0</td>\n",
       "      <td>0</td>\n",
       "      <td>0</td>\n",
       "      <td>0</td>\n",
       "      <td>1</td>\n",
       "    </tr>\n",
       "    <tr>\n",
       "      <th>4</th>\n",
       "      <td>2</td>\n",
       "      <td>2</td>\n",
       "      <td>4</td>\n",
       "      <td>2</td>\n",
       "      <td>2</td>\n",
       "      <td>2</td>\n",
       "      <td>1</td>\n",
       "      <td>2</td>\n",
       "      <td>3.0</td>\n",
       "      <td>1</td>\n",
       "      <td>...</td>\n",
       "      <td>0</td>\n",
       "      <td>0</td>\n",
       "      <td>0</td>\n",
       "      <td>0</td>\n",
       "      <td>0</td>\n",
       "      <td>0</td>\n",
       "      <td>0</td>\n",
       "      <td>0</td>\n",
       "      <td>0</td>\n",
       "      <td>1</td>\n",
       "    </tr>\n",
       "  </tbody>\n",
       "</table>\n",
       "<p>5 rows × 26 columns</p>\n",
       "</div>"
      ],
      "text/plain": [
       "   Age_band_of_driver  Driving_experience  Area_accident_occured  \\\n",
       "0                   2                   4                      2   \n",
       "1                   3                   3                      1   \n",
       "2                   2                   4                      9   \n",
       "3                   2                   1                      1   \n",
       "4                   2                   2                      4   \n",
       "\n",
       "   Light_conditions  Number_of_vehicles_involved  Number_of_casualties  \\\n",
       "0                 3                            2                     2   \n",
       "1                 3                            2                     2   \n",
       "2                 3                            2                     2   \n",
       "3                 2                            2                     2   \n",
       "4                 2                            2                     2   \n",
       "\n",
       "   Casualty_class  Age_band_of_casualty  Casualty_severity  \\\n",
       "0               1                     2                3.0   \n",
       "1               1                     2                3.0   \n",
       "2               1                     3                3.0   \n",
       "3               2                     2                3.0   \n",
       "4               1                     2                3.0   \n",
       "\n",
       "   Fitness_of_casuality  ...  Weather_conditions_Raining  \\\n",
       "0                     1  ...                           0   \n",
       "1                     1  ...                           0   \n",
       "2                     1  ...                           0   \n",
       "3                     1  ...                           0   \n",
       "4                     1  ...                           0   \n",
       "\n",
       "   Weather_conditions_Raining and Windy  Weather_conditions_Snow  \\\n",
       "0                                     0                        0   \n",
       "1                                     0                        0   \n",
       "2                                     0                        0   \n",
       "3                                     0                        0   \n",
       "4                                     0                        0   \n",
       "\n",
       "   Weather_conditions_Unknown  Weather_conditions_Windy  Sex_of_casualty_Male  \\\n",
       "0                           0                         0                     0   \n",
       "1                           0                         0                     0   \n",
       "2                           0                         0                     1   \n",
       "3                           0                         0                     0   \n",
       "4                           0                         0                     0   \n",
       "\n",
       "   Educational_level_Elementary  Educational_level_High School  \\\n",
       "0                             0                              1   \n",
       "1                             0                              0   \n",
       "2                             0                              0   \n",
       "3                             0                              0   \n",
       "4                             0                              0   \n",
       "\n",
       "   Educational_level_High school  Educational_level_Junior High  \n",
       "0                              0                              0  \n",
       "1                              0                              1  \n",
       "2                              0                              1  \n",
       "3                              0                              1  \n",
       "4                              0                              1  \n",
       "\n",
       "[5 rows x 26 columns]"
      ]
     },
     "execution_count": 3,
     "metadata": {},
     "output_type": "execute_result"
    }
   ],
   "source": [
    "df = prepare.prep_data(get)\n",
    "df.head()"
   ]
  },
  {
   "cell_type": "code",
   "execution_count": null,
   "id": "cedbeebe",
   "metadata": {},
   "outputs": [],
   "source": [
    "df = prepare.prep_data(get)\n",
    "df.head()"
   ]
  },
  {
   "cell_type": "code",
   "execution_count": null,
   "id": "9835b584",
   "metadata": {},
   "outputs": [],
   "source": [
    "df = df.reset_index(drop=True)"
   ]
  },
  {
   "cell_type": "code",
   "execution_count": null,
   "id": "e0789db7",
   "metadata": {},
   "outputs": [],
   "source": [
    "df = df.replace('Unknown or other', 'other')\n",
    "df = df.replace('Darkness - lights unlit', 'Darkness - no lighting')\n",
    "df['Age_band_of_casualty'] = df['Age_band_of_casualty'].replace('5', 'Under 18')"
   ]
  },
  {
   "cell_type": "code",
   "execution_count": null,
   "id": "25d9f0a8",
   "metadata": {},
   "outputs": [],
   "source": [
    "df['baseline_prediction'] = np.where(df['Casualty_class']== 'Driver or rider', True, False)\n",
    "df.head()"
   ]
  },
  {
   "cell_type": "code",
   "execution_count": null,
   "id": "6ab93ec2",
   "metadata": {},
   "outputs": [],
   "source": [
    "df['baseline_prediction'] = np.where(df['Casualty_class']== 'Driver or rider', 1 , 2)"
   ]
  },
  {
   "cell_type": "code",
   "execution_count": null,
   "id": "ea038487",
   "metadata": {},
   "outputs": [],
   "source": [
    "df['baseline_prediction'].isnull().sum()"
   ]
  },
  {
   "cell_type": "code",
   "execution_count": null,
   "id": "1c105b3a",
   "metadata": {},
   "outputs": [],
   "source": [
    "df.Weather_conditions.value_counts()"
   ]
  },
  {
   "cell_type": "code",
   "execution_count": null,
   "id": "9c8bb4c0",
   "metadata": {},
   "outputs": [],
   "source": [
    "df['Age_band_of_casualty '] = df.Age_band_of_casualty .map({'Under 18' : 1, '18-30' : 2, '31-50' : 3, 'Over 51' : 4})\n",
    "df['Age_band_of_driver'] = df.Age_band_of_driver.map({'Under 18' : 1, '18-30' : 2, '31-50' : 3, 'Over 51' : 4, 'Unknown' : 5})\n",
    "\n",
    "\n",
    "df['Casualty_class'] = df.Age_band_of_casualty.map({'Driver or rider' : 1, 'Pedestrian' : 2, 'Passenger' : 3, 'na' : 10})                                                          "
   ]
  },
  {
   "cell_type": "code",
   "execution_count": null,
   "id": "a96f7a2e",
   "metadata": {},
   "outputs": [],
   "source": [
    "df.info()"
   ]
  },
  {
   "cell_type": "code",
   "execution_count": null,
   "id": "c7ac56d4",
   "metadata": {},
   "outputs": [],
   "source": [
    "# number of duplicate rows\n",
    "duplicate = df[df.duplicated() == True]\n",
    "print(\"# of duplicate rows: {}\".format(len(duplicate)))"
   ]
  },
  {
   "cell_type": "code",
   "execution_count": null,
   "id": "10f79c2c",
   "metadata": {},
   "outputs": [],
   "source": [
    "# number of missing values in columns\n",
    "df.Educational_level.value_counts()"
   ]
  },
  {
   "cell_type": "code",
   "execution_count": null,
   "id": "5e87fa60",
   "metadata": {},
   "outputs": [],
   "source": [
    "df['Work_of_casuality'].isnull().sum()"
   ]
  },
  {
   "cell_type": "code",
   "execution_count": null,
   "id": "1945ddb6",
   "metadata": {},
   "outputs": [],
   "source": [
    "get.Weather_conditions.value_counts()"
   ]
  },
  {
   "cell_type": "code",
   "execution_count": null,
   "id": "792f700f",
   "metadata": {},
   "outputs": [],
   "source": [
    "df.Driving_experience.value_counts()"
   ]
  },
  {
   "cell_type": "code",
   "execution_count": null,
   "id": "467aa232",
   "metadata": {},
   "outputs": [],
   "source": [
    "df.loc[2:4, ['baseline_prediction', \"Casualty_severity\", 'Fitness_of_casuality']]"
   ]
  },
  {
   "cell_type": "code",
   "execution_count": null,
   "id": "afb846c3",
   "metadata": {},
   "outputs": [],
   "source": [
    "df.isnull().sum()"
   ]
  },
  {
   "cell_type": "code",
   "execution_count": null,
   "id": "10adce90",
   "metadata": {},
   "outputs": [],
   "source": [
    "def prop_imputer(df):\n",
    "    df_prop = df.copy(deep = True)\n",
    "    missing_cols = df_prop.isna().sum()[df_prop.isna().sum() != 0].index.tolist()\n",
    "    for col in missing_cols:\n",
    "        values_col = df_prop[col].value_counts(normalize = True).index.tolist()\n",
    "        probabilities_col = df_prop[col].value_counts(normalize = True).values.tolist()\n",
    "        df_prop[col] = df_prop[col].fillna(pd.Series(np.random.choice(values_col, p = probabilities_col, size = len(df))))\n",
    "    return df_prop"
   ]
  },
  {
   "cell_type": "code",
   "execution_count": null,
   "id": "0878fa98",
   "metadata": {},
   "outputs": [],
   "source": [
    "df_imp = prop_imputer(df)"
   ]
  },
  {
   "cell_type": "code",
   "execution_count": null,
   "id": "748eb660",
   "metadata": {},
   "outputs": [],
   "source": [
    "df = df_imp\n",
    "df.isnull().sum()"
   ]
  },
  {
   "cell_type": "code",
   "execution_count": 12,
   "id": "1b4dc328",
   "metadata": {},
   "outputs": [
    {
     "name": "stdout",
     "output_type": "stream",
     "text": [
      "<class 'pandas.core.frame.DataFrame'>\n",
      "RangeIndex: 12316 entries, 0 to 12315\n",
      "Data columns (total 26 columns):\n",
      " #   Column                                Non-Null Count  Dtype  \n",
      "---  ------                                --------------  -----  \n",
      " 0   Age_band_of_driver                    12316 non-null  int64  \n",
      " 1   Driving_experience                    12316 non-null  int64  \n",
      " 2   Area_accident_occured                 12316 non-null  int64  \n",
      " 3   Light_conditions                      12316 non-null  int64  \n",
      " 4   Number_of_vehicles_involved           12316 non-null  int64  \n",
      " 5   Number_of_casualties                  12316 non-null  int64  \n",
      " 6   Casualty_class                        12316 non-null  int64  \n",
      " 7   Age_band_of_casualty                  12316 non-null  int64  \n",
      " 8   Casualty_severity                     12316 non-null  float64\n",
      " 9   Fitness_of_casuality                  12316 non-null  int64  \n",
      " 10  Accident_severity                     12316 non-null  int64  \n",
      " 11  Sex_of_driver_Male                    12316 non-null  uint8  \n",
      " 12  Sex_of_driver_Unknown                 12316 non-null  uint8  \n",
      " 13  Weather_conditions_Fog or mist        12316 non-null  uint8  \n",
      " 14  Weather_conditions_Normal             12316 non-null  uint8  \n",
      " 15  Weather_conditions_Other              12316 non-null  uint8  \n",
      " 16  Weather_conditions_Raining            12316 non-null  uint8  \n",
      " 17  Weather_conditions_Raining and Windy  12316 non-null  uint8  \n",
      " 18  Weather_conditions_Snow               12316 non-null  uint8  \n",
      " 19  Weather_conditions_Unknown            12316 non-null  uint8  \n",
      " 20  Weather_conditions_Windy              12316 non-null  uint8  \n",
      " 21  Sex_of_casualty_Male                  12316 non-null  uint8  \n",
      " 22  Educational_level_Elementary          12316 non-null  uint8  \n",
      " 23  Educational_level_High School         12316 non-null  uint8  \n",
      " 24  Educational_level_High school         12316 non-null  uint8  \n",
      " 25  Educational_level_Junior High         12316 non-null  uint8  \n",
      "dtypes: float64(1), int64(10), uint8(15)\n",
      "memory usage: 1.2 MB\n"
     ]
    }
   ],
   "source": [
    "df.info()"
   ]
  },
  {
   "cell_type": "code",
   "execution_count": null,
   "id": "e4bbd44a",
   "metadata": {},
   "outputs": [],
   "source": [
    "# encode\n",
    "#df['Age_band_of_driver'] = df.Age_band_of_driver.map({'Under 18' : 1, '18-30' : 2, '31-50' : 3, 'Over 51' : 4, 'Unknown' : 10})\n",
    "#df['Educational_level'] = df.Educational_level.map({'Illiterate' : 1, 'Writing & reading' : 2, 'Elementary school' : 3, 'Junior high school' : 4, 'High school' : 5, 'Above high school' : 6, 'Unknown' : 10})\n",
    "df['Driving_experience'] = df.Driving_experience.map({'Below 1yr' : 1, '1-2yr' : 2, '2-5yr' : 3, '5-10yr' : 4, 'Above 10yr' : 5, 'No Licence' : 0, 'unknown' : 10})\n",
    "df['Light_conditions'] = df.Light_conditions.map({'Darkness - no lighting' : 1, 'Darkness - lights lit' : 2, 'Daylight' : 3})\n",
    "df['Age_band_of_casualty'] = df.Age_band_of_casualty.map({'Under 18' : 1, '18-30' : 2, '31-50' : 3, 'Over 51' : 4, 'na' : 10})\n",
    "df['Fitness_of_casuality'] = df.Fitness_of_casuality.map({'Normal' : 1, 'NormalNormal' : 2, 'Deaf' : 3, 'Other' : 4, 'Blind' : 4})\n",
    "#df['Accident_severity'] = df.Accident_severity.map({'Slight Injury' : 1, 'Serious Injury' : 2, 'Fatal injury' : 3})\n",
    "df.head(10)"
   ]
  },
  {
   "cell_type": "code",
   "execution_count": null,
   "id": "0c8bc6f5",
   "metadata": {},
   "outputs": [],
   "source": [
    "dummy_df = pd.get_dummies(df[['Area_accident_occured', \\\n",
    "                              'Weather_conditions', \\\n",
    "                              'Light_conditions', \\\n",
    "                              'Age_band_of_casualty', \\\n",
    "                              'Age_band_of_driver', \\\n",
    "                              'Sex_of_casualty',\\\n",
    "                              'Casualty_severity',\\\n",
    "                              'Accident_severity',\\\n",
    "                              'Educational_level']], dummy_na=False, \\\n",
    "                              drop_first=True)\n",
    "    \n",
    "    # Concat dummy dataframe to original \n",
    "df = pd.concat([df, dummy_df], axis=1)"
   ]
  },
  {
   "cell_type": "code",
   "execution_count": null,
   "id": "7f063694",
   "metadata": {},
   "outputs": [],
   "source": [
    "df = df.drop(['Area_accident_occured', 'Accident_severity', 'Educational_level', 'Light_conditions', 'Weather_conditions', 'Age_band_of_casualty', 'Age_band_of_driver', 'Educational_level_Unknown', 'Educational_level_Illiterate', 'Time', 'Lanes_or_Medians', 'Vehicle_movement', 'Types_of_Junction', 'Pedestrian_movement', 'Cause_of_accident', 'Type_of_collision', 'Vehicle_driver_relation', 'Type_of_vehicle', 'Road_surface_type', 'Road_surface_conditions', 'Day_of_week','Road_allignment', 'Fitness_of_casuality', 'Work_of_casuality', 'Sex_of_driver', 'Sex_of_casualty', 'Defect_of_vehicle', 'Owner_of_vehicle', 'Service_year_of_vehicle', 'Road_surface_type'], axis=1)\n",
    "\n"
   ]
  },
  {
   "cell_type": "code",
   "execution_count": null,
   "id": "21a4c9c8",
   "metadata": {},
   "outputs": [],
   "source": [
    "get.loc[2:15, ['Time', \"Weather_conditions\"]]"
   ]
  },
  {
   "cell_type": "code",
   "execution_count": null,
   "id": "3a9315be",
   "metadata": {},
   "outputs": [],
   "source": [
    "get.Time.min()\n",
    "get.Time = pd.to_datetime(get.Time, infer_datetime_format=True)"
   ]
  },
  {
   "cell_type": "code",
   "execution_count": null,
   "id": "9176e739",
   "metadata": {},
   "outputs": [],
   "source": [
    "get['year'] = pd.DatetimeIndex(get['Time']).year\n",
    "get.head()"
   ]
  },
  {
   "cell_type": "code",
   "execution_count": null,
   "id": "0af0c12a",
   "metadata": {},
   "outputs": [],
   "source": [
    "get['year'] = pd.DatetimeIndex(get['Time']).year"
   ]
  },
  {
   "cell_type": "markdown",
   "id": "ba131a83",
   "metadata": {},
   "source": [
    "#### Explore"
   ]
  },
  {
   "cell_type": "code",
   "execution_count": 4,
   "id": "4de8129f",
   "metadata": {},
   "outputs": [],
   "source": [
    "# split data and explore on train\n",
    "def split(df, stratify_by='Casualty_class'):\n",
    "    # split df into train_validate \n",
    "    train_validate, test = train_test_split(df, test_size=.20, random_state=13)\n",
    "    train, validate = train_test_split(train_validate, test_size=.3, random_state=13)\n",
    "\n",
    "    X_train = train.drop(columns=['Casualty_class'])\n",
    "    y_train = train[['Casualty_class']]\n",
    "\n",
    "    X_validate = validate.drop(columns=['Casualty_class'])\n",
    "    y_validate = validate[['Casualty_class']]\n",
    "\n",
    "    X_test = test.drop(columns=['Casualty_class'])\n",
    "    y_test = test[['Casualty_class']]\n",
    "\n",
    "    return train, X_train, X_validate, X_test, y_train, y_validate, y_test"
   ]
  },
  {
   "cell_type": "code",
   "execution_count": 5,
   "id": "1485fd4c",
   "metadata": {},
   "outputs": [],
   "source": [
    "train, X_train, X_validate, X_test, y_train, y_validate, y_test = split(df, stratify_by='Casualty_class')"
   ]
  },
  {
   "cell_type": "code",
   "execution_count": null,
   "id": "2053fcaf",
   "metadata": {},
   "outputs": [],
   "source": [
    "sns.boxplot(data=train, y='Number_of_casualties')\n",
    "plt.show()"
   ]
  },
  {
   "cell_type": "code",
   "execution_count": 6,
   "id": "82c71eda",
   "metadata": {},
   "outputs": [
    {
     "data": {
      "text/html": [
       "<div>\n",
       "<style scoped>\n",
       "    .dataframe tbody tr th:only-of-type {\n",
       "        vertical-align: middle;\n",
       "    }\n",
       "\n",
       "    .dataframe tbody tr th {\n",
       "        vertical-align: top;\n",
       "    }\n",
       "\n",
       "    .dataframe thead th {\n",
       "        text-align: right;\n",
       "    }\n",
       "</style>\n",
       "<table border=\"1\" class=\"dataframe\">\n",
       "  <thead>\n",
       "    <tr style=\"text-align: right;\">\n",
       "      <th></th>\n",
       "      <th>Casualty_class</th>\n",
       "    </tr>\n",
       "  </thead>\n",
       "  <tbody>\n",
       "    <tr>\n",
       "      <th>10242</th>\n",
       "      <td>1</td>\n",
       "    </tr>\n",
       "    <tr>\n",
       "      <th>2673</th>\n",
       "      <td>1</td>\n",
       "    </tr>\n",
       "    <tr>\n",
       "      <th>5201</th>\n",
       "      <td>2</td>\n",
       "    </tr>\n",
       "    <tr>\n",
       "      <th>11438</th>\n",
       "      <td>2</td>\n",
       "    </tr>\n",
       "    <tr>\n",
       "      <th>11556</th>\n",
       "      <td>3</td>\n",
       "    </tr>\n",
       "  </tbody>\n",
       "</table>\n",
       "</div>"
      ],
      "text/plain": [
       "       Casualty_class\n",
       "10242               1\n",
       "2673                1\n",
       "5201                2\n",
       "11438               2\n",
       "11556               3"
      ]
     },
     "execution_count": 6,
     "metadata": {},
     "output_type": "execute_result"
    }
   ],
   "source": [
    "y_train.head()"
   ]
  },
  {
   "cell_type": "code",
   "execution_count": null,
   "id": "45c81534",
   "metadata": {},
   "outputs": [],
   "source": [
    "X_train.columns"
   ]
  },
  {
   "cell_type": "code",
   "execution_count": null,
   "id": "8e9a17f6",
   "metadata": {},
   "outputs": [],
   "source": [
    "fig, ax =plt.subplots(1,2,figsize = (15,8))\n",
    "sns.despine(top=True, right=True, left=False, bottom=False)\n",
    "ax1 =sns.countplot(\"Casualty_class\", hue=\"Sex_of_casualty_Male\", \n",
    "              palette=\"magma\", data=train, ax=ax[0])\n",
    "\n",
    "ax2 = sns.countplot(\"Accident_severity\", hue=\"Sex_of_casualty_Male\", \n",
    "              palette=\"magma\", data=train, ax=ax[1])"
   ]
  },
  {
   "cell_type": "markdown",
   "id": "987cb057",
   "metadata": {},
   "source": [
    "From this chart, generally there are more women in the casualty class, especially driver or rider. The count for women is also higher for accident severity."
   ]
  },
  {
   "cell_type": "code",
   "execution_count": null,
   "id": "28b7e94c",
   "metadata": {},
   "outputs": [],
   "source": [
    "# check values\n",
    "train.Area_accident_occured.value_counts()"
   ]
  },
  {
   "cell_type": "code",
   "execution_count": null,
   "id": "7faed526",
   "metadata": {},
   "outputs": [],
   "source": [
    "df2 = train[train['Area_accident_occured'] ==  \" Recreational areas\"]\n",
    "df2"
   ]
  },
  {
   "cell_type": "code",
   "execution_count": null,
   "id": "2457396b",
   "metadata": {},
   "outputs": [],
   "source": [
    "train.loc[2:4, ['Casualty_class']]"
   ]
  },
  {
   "cell_type": "code",
   "execution_count": null,
   "id": "1ce2c0d1",
   "metadata": {},
   "outputs": [],
   "source": [
    "correlation_matrix = train[['Number_of_casualties','Number_of_vehicles_involved']].corr()\n",
    "sns.heatmap(correlation_matrix, annot=True)\n",
    "plt.show()"
   ]
  },
  {
   "cell_type": "markdown",
   "id": "64e08dd5",
   "metadata": {},
   "source": [
    "there is not much correlation to these variables "
   ]
  },
  {
   "cell_type": "code",
   "execution_count": null,
   "id": "f55540ed",
   "metadata": {},
   "outputs": [],
   "source": [
    "train.Fitness_of_casuality.value_counts()"
   ]
  },
  {
   "cell_type": "code",
   "execution_count": null,
   "id": "b1d8d3dc",
   "metadata": {},
   "outputs": [],
   "source": [
    "train.columns"
   ]
  },
  {
   "cell_type": "code",
   "execution_count": null,
   "id": "75b21193",
   "metadata": {},
   "outputs": [],
   "source": [
    "plt.figure(figsize=(10,7))\n",
    "sns.boxplot(data=df, y='Number_of_vehicles_involved', x='Number_of_casualties')\n",
    "plt.show()"
   ]
  },
  {
   "cell_type": "code",
   "execution_count": null,
   "id": "72bf8782",
   "metadata": {},
   "outputs": [],
   "source": [
    "train.Area_accident_occured.value_counts()"
   ]
  },
  {
   "cell_type": "code",
   "execution_count": null,
   "id": "28dfcee9",
   "metadata": {},
   "outputs": [],
   "source": [
    "var = [\"Age_band_of_casualty\",\"Area_accident_occured\", \"Light_conditions\"]\n",
    "for v in var:\n",
    "    sns.set(style=\"darkgrid\")\n",
    "    sns.countplot(x=v, data=train)\n",
    "    plt.show()"
   ]
  },
  {
   "cell_type": "markdown",
   "id": "594be3a1",
   "metadata": {},
   "source": [
    "### Does age have anything to do with casualty?\n",
    "\n",
    "From these charts I can see that the highest age range for accidents is 18-30"
   ]
  },
  {
   "cell_type": "code",
   "execution_count": null,
   "id": "0e5d009a",
   "metadata": {},
   "outputs": [],
   "source": [
    "train.Educational_level.value_counts()"
   ]
  },
  {
   "cell_type": "code",
   "execution_count": null,
   "id": "c18e3d2d",
   "metadata": {},
   "outputs": [],
   "source": [
    "grid = sns.FacetGrid(data=df, col='Light_conditions', height=4, aspect=1, sharey=False)\n",
    "# mapping bar plot and the data on to the grid\n",
    "grid.map(sns.countplot, 'Number_of_casualties', palette=['black', 'brown', 'orange'])\n",
    "plt.show()"
   ]
  },
  {
   "cell_type": "markdown",
   "id": "f0b5a8ad",
   "metadata": {},
   "source": [
    "A majority of accidents happen in the daytime and at night with lighting."
   ]
  },
  {
   "cell_type": "code",
   "execution_count": null,
   "id": "543728a0",
   "metadata": {},
   "outputs": [],
   "source": [
    "target_count = train['Casualty_class'].value_counts()\n",
    "\n",
    "target_count.plot(kind='bar', title='Count (target)');"
   ]
  },
  {
   "cell_type": "code",
   "execution_count": null,
   "id": "602bd13e",
   "metadata": {},
   "outputs": [],
   "source": [
    "train.head()"
   ]
  },
  {
   "cell_type": "markdown",
   "id": "773210c4",
   "metadata": {},
   "source": [
    "#### Testing "
   ]
  },
  {
   "cell_type": "code",
   "execution_count": null,
   "id": "91c370c5",
   "metadata": {},
   "outputs": [],
   "source": [
    "a=train.Casualty_class\n",
    "b=train.Light_conditions\n",
    "observed = pd.crosstab(a,b)\n",
    "observed"
   ]
  },
  {
   "cell_type": "markdown",
   "id": "4898c660",
   "metadata": {},
   "source": [
    "Ho - light conditions effects casualty class\n",
    "\n",
    "Ha - light conditions do not effect it "
   ]
  },
  {
   "cell_type": "code",
   "execution_count": null,
   "id": "4bede570",
   "metadata": {},
   "outputs": [],
   "source": [
    "chi2, p, degf, expected = stats.chi2_contingency(observed)\n",
    "alpha = 0.05\n",
    "print(f'chi2 = {chi2:.2f}')\n",
    "print(f'p value: {p:.4f}')\n",
    "if p < alpha:\n",
    "      print('We can reject the null hypothesis')\n",
    "else:\n",
    "    print('We fail to reject the null hypothesis')"
   ]
  },
  {
   "cell_type": "markdown",
   "id": "cab66ec4",
   "metadata": {},
   "source": [
    "Ho - Driving experiance effects casualty class\n",
    "\n",
    "Ha - Driving experiance does not effect it"
   ]
  },
  {
   "cell_type": "code",
   "execution_count": null,
   "id": "f218a72e",
   "metadata": {},
   "outputs": [],
   "source": [
    "a2=train.Casualty_class\n",
    "b2=train.Driving_experience\n",
    "observed2 = pd.crosstab(a2,b2)\n",
    "observed2"
   ]
  },
  {
   "cell_type": "code",
   "execution_count": null,
   "id": "87a60536",
   "metadata": {},
   "outputs": [],
   "source": [
    "chi2, p, degf, expected = stats.chi2_contingency(observed2)\n",
    "alpha = 0.05\n",
    "print(f'chi2 = {chi2:.2f}')\n",
    "print(f'p value: {p:.4f}')\n",
    "if p < alpha:\n",
    "      print('We can reject the null hypothesis')\n",
    "else:\n",
    "    print('We fail to reject the null hypothesis')"
   ]
  },
  {
   "cell_type": "code",
   "execution_count": null,
   "id": "e4087329",
   "metadata": {},
   "outputs": [],
   "source": [
    "df1 = train[train.isna().any(axis=1)]\n",
    "df1"
   ]
  },
  {
   "cell_type": "code",
   "execution_count": null,
   "id": "c22edd04",
   "metadata": {},
   "outputs": [],
   "source": [
    "df2 = train[train['baseline_prediction'] ==  \"no\"]\n",
    "df2"
   ]
  },
  {
   "cell_type": "code",
   "execution_count": 7,
   "id": "1c951c4e",
   "metadata": {},
   "outputs": [],
   "source": [
    "# Chi-square feature selection\n",
    "def feature_chi2(X_train, X_validate, X_test, k = 25):\n",
    "     \n",
    "    # Feature selection\n",
    "    fs = SelectKBest(score_func = chi2, k = k)\n",
    "    fs.fit(X_train, y_train)\n",
    "    \n",
    "    # Selected columns\n",
    "    cols = fs.get_support(indices = True)\n",
    "    \n",
    "    # Output data\n",
    "    X_train_fs = X_train.iloc[:, cols]\n",
    "    X_validate_fs = X_validate.iloc[:, cols]\n",
    "    X_test_fs = X_test.iloc[:, cols]\n",
    "    \n",
    "    return X_train_fs, X_validate_fs, X_test_fs"
   ]
  },
  {
   "cell_type": "code",
   "execution_count": 9,
   "id": "122e0637",
   "metadata": {},
   "outputs": [],
   "source": [
    "X_train_fs, X_validate_fs, X_test_fs = feature_chi2(X_train, X_validate, X_test, k = 25)"
   ]
  },
  {
   "cell_type": "code",
   "execution_count": 10,
   "id": "865e74c4",
   "metadata": {},
   "outputs": [
    {
     "data": {
      "text/html": [
       "<div>\n",
       "<style scoped>\n",
       "    .dataframe tbody tr th:only-of-type {\n",
       "        vertical-align: middle;\n",
       "    }\n",
       "\n",
       "    .dataframe tbody tr th {\n",
       "        vertical-align: top;\n",
       "    }\n",
       "\n",
       "    .dataframe thead th {\n",
       "        text-align: right;\n",
       "    }\n",
       "</style>\n",
       "<table border=\"1\" class=\"dataframe\">\n",
       "  <thead>\n",
       "    <tr style=\"text-align: right;\">\n",
       "      <th></th>\n",
       "      <th>Age_band_of_driver</th>\n",
       "      <th>Driving_experience</th>\n",
       "      <th>Area_accident_occured</th>\n",
       "      <th>Light_conditions</th>\n",
       "      <th>Number_of_vehicles_involved</th>\n",
       "      <th>Number_of_casualties</th>\n",
       "      <th>Age_band_of_casualty</th>\n",
       "      <th>Casualty_severity</th>\n",
       "      <th>Fitness_of_casuality</th>\n",
       "      <th>Accident_severity</th>\n",
       "      <th>...</th>\n",
       "      <th>Weather_conditions_Raining</th>\n",
       "      <th>Weather_conditions_Raining and Windy</th>\n",
       "      <th>Weather_conditions_Snow</th>\n",
       "      <th>Weather_conditions_Unknown</th>\n",
       "      <th>Weather_conditions_Windy</th>\n",
       "      <th>Sex_of_casualty_Male</th>\n",
       "      <th>Educational_level_Elementary</th>\n",
       "      <th>Educational_level_High School</th>\n",
       "      <th>Educational_level_High school</th>\n",
       "      <th>Educational_level_Junior High</th>\n",
       "    </tr>\n",
       "  </thead>\n",
       "  <tbody>\n",
       "    <tr>\n",
       "      <th>10242</th>\n",
       "      <td>2</td>\n",
       "      <td>2</td>\n",
       "      <td>9</td>\n",
       "      <td>3</td>\n",
       "      <td>3</td>\n",
       "      <td>1</td>\n",
       "      <td>2</td>\n",
       "      <td>3.0</td>\n",
       "      <td>1</td>\n",
       "      <td>1</td>\n",
       "      <td>...</td>\n",
       "      <td>0</td>\n",
       "      <td>0</td>\n",
       "      <td>0</td>\n",
       "      <td>0</td>\n",
       "      <td>0</td>\n",
       "      <td>0</td>\n",
       "      <td>0</td>\n",
       "      <td>0</td>\n",
       "      <td>0</td>\n",
       "      <td>1</td>\n",
       "    </tr>\n",
       "    <tr>\n",
       "      <th>2673</th>\n",
       "      <td>2</td>\n",
       "      <td>1</td>\n",
       "      <td>9</td>\n",
       "      <td>3</td>\n",
       "      <td>1</td>\n",
       "      <td>1</td>\n",
       "      <td>2</td>\n",
       "      <td>3.0</td>\n",
       "      <td>1</td>\n",
       "      <td>1</td>\n",
       "      <td>...</td>\n",
       "      <td>0</td>\n",
       "      <td>0</td>\n",
       "      <td>0</td>\n",
       "      <td>0</td>\n",
       "      <td>0</td>\n",
       "      <td>0</td>\n",
       "      <td>0</td>\n",
       "      <td>0</td>\n",
       "      <td>0</td>\n",
       "      <td>0</td>\n",
       "    </tr>\n",
       "    <tr>\n",
       "      <th>5201</th>\n",
       "      <td>2</td>\n",
       "      <td>1</td>\n",
       "      <td>1</td>\n",
       "      <td>3</td>\n",
       "      <td>2</td>\n",
       "      <td>1</td>\n",
       "      <td>2</td>\n",
       "      <td>3.0</td>\n",
       "      <td>1</td>\n",
       "      <td>1</td>\n",
       "      <td>...</td>\n",
       "      <td>0</td>\n",
       "      <td>0</td>\n",
       "      <td>0</td>\n",
       "      <td>0</td>\n",
       "      <td>0</td>\n",
       "      <td>0</td>\n",
       "      <td>1</td>\n",
       "      <td>0</td>\n",
       "      <td>0</td>\n",
       "      <td>0</td>\n",
       "    </tr>\n",
       "    <tr>\n",
       "      <th>11438</th>\n",
       "      <td>2</td>\n",
       "      <td>3</td>\n",
       "      <td>9</td>\n",
       "      <td>3</td>\n",
       "      <td>2</td>\n",
       "      <td>1</td>\n",
       "      <td>3</td>\n",
       "      <td>3.0</td>\n",
       "      <td>1</td>\n",
       "      <td>1</td>\n",
       "      <td>...</td>\n",
       "      <td>0</td>\n",
       "      <td>0</td>\n",
       "      <td>0</td>\n",
       "      <td>0</td>\n",
       "      <td>0</td>\n",
       "      <td>0</td>\n",
       "      <td>0</td>\n",
       "      <td>0</td>\n",
       "      <td>0</td>\n",
       "      <td>1</td>\n",
       "    </tr>\n",
       "    <tr>\n",
       "      <th>11556</th>\n",
       "      <td>2</td>\n",
       "      <td>1</td>\n",
       "      <td>5</td>\n",
       "      <td>3</td>\n",
       "      <td>2</td>\n",
       "      <td>2</td>\n",
       "      <td>2</td>\n",
       "      <td>3.0</td>\n",
       "      <td>1</td>\n",
       "      <td>1</td>\n",
       "      <td>...</td>\n",
       "      <td>1</td>\n",
       "      <td>0</td>\n",
       "      <td>0</td>\n",
       "      <td>0</td>\n",
       "      <td>0</td>\n",
       "      <td>1</td>\n",
       "      <td>0</td>\n",
       "      <td>0</td>\n",
       "      <td>0</td>\n",
       "      <td>1</td>\n",
       "    </tr>\n",
       "  </tbody>\n",
       "</table>\n",
       "<p>5 rows × 25 columns</p>\n",
       "</div>"
      ],
      "text/plain": [
       "       Age_band_of_driver  Driving_experience  Area_accident_occured  \\\n",
       "10242                   2                   2                      9   \n",
       "2673                    2                   1                      9   \n",
       "5201                    2                   1                      1   \n",
       "11438                   2                   3                      9   \n",
       "11556                   2                   1                      5   \n",
       "\n",
       "       Light_conditions  Number_of_vehicles_involved  Number_of_casualties  \\\n",
       "10242                 3                            3                     1   \n",
       "2673                  3                            1                     1   \n",
       "5201                  3                            2                     1   \n",
       "11438                 3                            2                     1   \n",
       "11556                 3                            2                     2   \n",
       "\n",
       "       Age_band_of_casualty  Casualty_severity  Fitness_of_casuality  \\\n",
       "10242                     2                3.0                     1   \n",
       "2673                      2                3.0                     1   \n",
       "5201                      2                3.0                     1   \n",
       "11438                     3                3.0                     1   \n",
       "11556                     2                3.0                     1   \n",
       "\n",
       "       Accident_severity  ...  Weather_conditions_Raining  \\\n",
       "10242                  1  ...                           0   \n",
       "2673                   1  ...                           0   \n",
       "5201                   1  ...                           0   \n",
       "11438                  1  ...                           0   \n",
       "11556                  1  ...                           1   \n",
       "\n",
       "       Weather_conditions_Raining and Windy  Weather_conditions_Snow  \\\n",
       "10242                                     0                        0   \n",
       "2673                                      0                        0   \n",
       "5201                                      0                        0   \n",
       "11438                                     0                        0   \n",
       "11556                                     0                        0   \n",
       "\n",
       "       Weather_conditions_Unknown  Weather_conditions_Windy  \\\n",
       "10242                           0                         0   \n",
       "2673                            0                         0   \n",
       "5201                            0                         0   \n",
       "11438                           0                         0   \n",
       "11556                           0                         0   \n",
       "\n",
       "       Sex_of_casualty_Male  Educational_level_Elementary  \\\n",
       "10242                     0                             0   \n",
       "2673                      0                             0   \n",
       "5201                      0                             1   \n",
       "11438                     0                             0   \n",
       "11556                     1                             0   \n",
       "\n",
       "       Educational_level_High School  Educational_level_High school  \\\n",
       "10242                              0                              0   \n",
       "2673                               0                              0   \n",
       "5201                               0                              0   \n",
       "11438                              0                              0   \n",
       "11556                              0                              0   \n",
       "\n",
       "       Educational_level_Junior High  \n",
       "10242                              1  \n",
       "2673                               0  \n",
       "5201                               0  \n",
       "11438                              1  \n",
       "11556                              1  \n",
       "\n",
       "[5 rows x 25 columns]"
      ]
     },
     "execution_count": 10,
     "metadata": {},
     "output_type": "execute_result"
    }
   ],
   "source": [
    "X_train_fs.head()"
   ]
  },
  {
   "cell_type": "code",
   "execution_count": null,
   "id": "a4613ac2",
   "metadata": {},
   "outputs": [],
   "source": [
    "baseline.head()"
   ]
  },
  {
   "cell_type": "code",
   "execution_count": null,
   "id": "55cd0d7b",
   "metadata": {},
   "outputs": [],
   "source": [
    "train.Casualty_class.value_counts()"
   ]
  },
  {
   "cell_type": "code",
   "execution_count": null,
   "id": "ea114c12",
   "metadata": {},
   "outputs": [],
   "source": [
    "train.shape"
   ]
  },
  {
   "cell_type": "code",
   "execution_count": null,
   "id": "284c4ee9",
   "metadata": {},
   "outputs": [],
   "source": [
    "train[train['Casualty_class'] ==  1].shape"
   ]
  },
  {
   "cell_type": "code",
   "execution_count": null,
   "id": "c5340060",
   "metadata": {},
   "outputs": [],
   "source": [
    "predictions['baseline'] = train[train['Casualty_class'] == 1].shape[0] /train.shape[0]\n",
    "predictions.head()"
   ]
  },
  {
   "cell_type": "code",
   "execution_count": null,
   "id": "30023596",
   "metadata": {},
   "outputs": [],
   "source": [
    "predictions = pd.DataFrame({\n",
    "    'actual': train.Casualty_class\n",
    "})"
   ]
  },
  {
   "cell_type": "code",
   "execution_count": null,
   "id": "70483188",
   "metadata": {},
   "outputs": [],
   "source": [
    "predictions.head()"
   ]
  },
  {
   "cell_type": "markdown",
   "id": "4ff476fa",
   "metadata": {},
   "source": [
    "### Random Forest"
   ]
  },
  {
   "cell_type": "code",
   "execution_count": null,
   "id": "441b1d70",
   "metadata": {},
   "outputs": [],
   "source": [
    "from sklearn.metrics import classification_report\n",
    "# assign model\n",
    "forest1 = RandomForestClassifier(max_depth=3, random_state=123)\n",
    "#fit model\n",
    "forest1.fit(X_train_fs, y_train)\n",
    "y_predictions = forest1.predict(X_train_fs)\n",
    "predictions['RF'] = forest1.predict(X_train_fs)\n",
    "\n",
    "report = classification_report(y_train, y_predictions, output_dict=True)\n",
    "print(\"Tree of depth 4\")\n",
    "pd.DataFrame(report)"
   ]
  },
  {
   "cell_type": "code",
   "execution_count": null,
   "id": "0c713422",
   "metadata": {},
   "outputs": [],
   "source": [
    "from sklearn.metrics import mean_squared_error\n",
    "# evaluate accuracy on dt\n",
    "MSE = mean_squared_error(predictions.actual, predictions.RF)\n",
    "RMSE = math.sqrt(MSE)\n",
    "predictions['RF'] = RMSE\n",
    "print(\"Root Mean Square Error:\\n\")\n",
    "print(RMSE)"
   ]
  },
  {
   "cell_type": "markdown",
   "id": "c5670fec",
   "metadata": {},
   "source": [
    "### Decision Tree \n",
    "\n",
    "Max depth 3"
   ]
  },
  {
   "cell_type": "code",
   "execution_count": null,
   "id": "40a60a11",
   "metadata": {
    "scrolled": true
   },
   "outputs": [],
   "source": [
    "# call the model\n",
    "tree1 = DecisionTreeClassifier(max_depth=3, random_state=123)\n",
    "# fit the model\n",
    "tree1 = tree1.fit(X_train_fs, y_train)\n",
    "y_predictions = tree1.predict(X_train_fs)\n",
    "predictions['DT'] = tree1.predict(X_train_fs)\n",
    "report = classification_report(y_train, y_predictions, output_dict=True)\n",
    "print(\"Tree of depth 7\")\n",
    "pd.DataFrame(report)"
   ]
  },
  {
   "cell_type": "code",
   "execution_count": null,
   "id": "dd06ce2e",
   "metadata": {},
   "outputs": [],
   "source": [
    "# evaluate accuracy on dt\n",
    "MSE = mean_squared_error(predictions.actual, predictions.DT)\n",
    "RMSE = math.sqrt(MSE)\n",
    "predictions['DT'] = RMSE\n",
    "print(\"Root Mean Square Error:\\n\")\n",
    "print(RMSE)"
   ]
  },
  {
   "cell_type": "markdown",
   "id": "340fc7c2",
   "metadata": {},
   "source": [
    "### Decision Tree\n",
    "\n",
    "max depth 5"
   ]
  },
  {
   "cell_type": "code",
   "execution_count": null,
   "id": "8538f7df",
   "metadata": {},
   "outputs": [],
   "source": [
    "# call the model\n",
    "tree2 = DecisionTreeClassifier(max_depth=7, random_state=123)\n",
    "# fit the model\n",
    "tree2 = tree1.fit(X_train_fs, y_train)\n",
    "y_predictions = tree2.predict(X_train_fs)\n",
    "predictions['DT2'] = tree2.predict(X_train_fs)\n",
    "report = classification_report(y_train, y_predictions, output_dict=True)\n",
    "print(\"Tree of depth 5\")\n",
    "pd.DataFrame(report)"
   ]
  },
  {
   "cell_type": "code",
   "execution_count": null,
   "id": "8a643edc",
   "metadata": {},
   "outputs": [],
   "source": [
    "# evaluate accuracy on dt2\n",
    "MSE = mean_squared_error(predictions.actual, predictions.DT2)\n",
    "RMSE = math.sqrt(MSE)\n",
    "predictions['DT2'] = RMSE\n",
    "print(\"Root Mean Square Error:\\n\")\n",
    "print(RMSE)"
   ]
  },
  {
   "cell_type": "code",
   "execution_count": null,
   "id": "7f2c4c39",
   "metadata": {},
   "outputs": [],
   "source": [
    "predictions.head()"
   ]
  },
  {
   "cell_type": "markdown",
   "id": "2c8875ad",
   "metadata": {},
   "source": [
    "#### Model on validate"
   ]
  },
  {
   "cell_type": "code",
   "execution_count": null,
   "id": "54276ecb",
   "metadata": {},
   "outputs": [],
   "source": [
    "pred_Valid = pd.DataFrame({\n",
    "    'actual': y_validate.Casualty_class\n",
    "})"
   ]
  },
  {
   "cell_type": "code",
   "execution_count": null,
   "id": "db437a2f",
   "metadata": {},
   "outputs": [],
   "source": [
    "pred_Valid['baseline'] = train[train['Casualty_class'] == 1].shape[0] /train.shape[0]\n",
    "pred_Valid.head()"
   ]
  },
  {
   "cell_type": "code",
   "execution_count": null,
   "id": "521cdbeb",
   "metadata": {},
   "outputs": [],
   "source": [
    "# RF on valid and get RMSE\n",
    "pred_Valid['RF_Valid'] = forest1.predict(X_validate_fs)\n",
    "MSE = mean_squared_error(pred_Valid.actual, pred_Valid.RF_Valid)\n",
    "RMSE = math.sqrt(MSE)\n",
    "pred_Valid['RF_Valid'] = RMSE"
   ]
  },
  {
   "cell_type": "code",
   "execution_count": null,
   "id": "dfff424e",
   "metadata": {},
   "outputs": [],
   "source": [
    "# dt on valid and get RMSE\n",
    "pred_Valid['DT_Valid'] = tree1.predict(X_validate_fs)\n",
    "MSE = mean_squared_error(pred_Valid.actual, pred_Valid.DT_Valid)\n",
    "RMSE = math.sqrt(MSE)\n",
    "pred_Valid['DT_Valid'] = RMSE"
   ]
  },
  {
   "cell_type": "code",
   "execution_count": null,
   "id": "5e9d868c",
   "metadata": {},
   "outputs": [],
   "source": [
    "# dt2 on valid and get RMSE\n",
    "pred_Valid['DT2_Valid'] = tree2.predict(X_validate_fs)\n",
    "MSE = mean_squared_error(pred_Valid.actual, pred_Valid.DT2_Valid)\n",
    "RMSE = math.sqrt(MSE)\n",
    "pred_Valid['DT2_Valid'] = RMSE"
   ]
  },
  {
   "cell_type": "code",
   "execution_count": null,
   "id": "e9bf813b",
   "metadata": {},
   "outputs": [],
   "source": [
    "pred_Valid.head()"
   ]
  },
  {
   "cell_type": "markdown",
   "id": "9f9ab424",
   "metadata": {},
   "source": [
    "### Test \n",
    "\n",
    "Random forest model was the best on validate"
   ]
  },
  {
   "cell_type": "code",
   "execution_count": null,
   "id": "175fd888",
   "metadata": {},
   "outputs": [],
   "source": [
    "# df to hold predictions \n",
    "pred_Test = pd.DataFrame({\n",
    "    'actual': y_test.Casualty_class\n",
    "})\n",
    "pred_Test['baseline'] = train[train['Casualty_class'] == 1].shape[0] /train.shape[0]\n",
    "pred_Test.head()"
   ]
  },
  {
   "cell_type": "code",
   "execution_count": null,
   "id": "b8c9c106",
   "metadata": {},
   "outputs": [],
   "source": [
    "pred_Test['RF_Test'] = forest1.predict(X_test_fs)\n",
    "MSE = mean_squared_error(pred_Test.actual, pred_Test.RF_Test)\n",
    "RMSE = math.sqrt(MSE)\n",
    "pred_Test['RF_Test'] = RMSE\n",
    "pred_Test.head()"
   ]
  },
  {
   "cell_type": "code",
   "execution_count": null,
   "id": "fd913e0d",
   "metadata": {},
   "outputs": [],
   "source": []
  }
 ],
 "metadata": {
  "kernelspec": {
   "display_name": "Python 3 (ipykernel)",
   "language": "python",
   "name": "python3"
  },
  "language_info": {
   "codemirror_mode": {
    "name": "ipython",
    "version": 3
   },
   "file_extension": ".py",
   "mimetype": "text/x-python",
   "name": "python",
   "nbconvert_exporter": "python",
   "pygments_lexer": "ipython3",
   "version": "3.9.12"
  }
 },
 "nbformat": 4,
 "nbformat_minor": 5
}
