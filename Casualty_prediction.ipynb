{
 "cells": [
  {
   "cell_type": "markdown",
   "id": "55be74fb",
   "metadata": {},
   "source": [
    "## Casualty Prediction\n",
    "\n",
    "Lindy Castellaw"
   ]
  },
  {
   "cell_type": "markdown",
   "id": "1ea47a59",
   "metadata": {},
   "source": [
    "The goal of this project is the investigate casualty class (Driver or Rider, Pedestrian or Passenger) in accidents in hopes of implementing more safety measures for these classes. The data set has been prepared from manual records of road traffic accident of the year 2017-20 with sensitive information already removed. It has 33 features and 12316 instances of an accident. It also includes weather conditions, type of vehicles, number of casualties and information about them, there are a lot of features in this dataset for analysis. I hope to show casualty traits through visualizations and create an algorithm that can predict the severity of accidents. \n",
    "\n",
    "\n",
    "There are some questions that can be answered using this data such as:\n",
    "- Does lighting affect class of casualty?\n",
    "- Does gender affect severity?\n",
    "- What are the age group are most likely to be involved in accidents?\n",
    "- What are the areas with higher accident severity or lower accident severity?\n",
    "\n",
    "We will be answering few of the questions as I mentioned above. We will also figure out some way to implement the machine learning on this dataset and see what we can come up with."
   ]
  },
  {
   "cell_type": "code",
   "execution_count": null,
   "id": "0ad38924",
   "metadata": {},
   "outputs": [],
   "source": [
    "# Mathematical functions\n",
    "import math\n",
    "from scipy import stats \n",
    "# Data manipulation\n",
    "import numpy as np\n",
    "import pandas as pd\n",
    "\n",
    "# Plotting and visualization\n",
    "import matplotlib.pyplot as plt\n",
    "import seaborn as sns\n",
    "\n",
    "# Missing data imputation\n",
    "from sklearn.experimental import enable_iterative_imputer\n",
    "from sklearn.impute import SimpleImputer, KNNImputer, IterativeImputer\n",
    "from io import StringIO \n",
    "\n",
    "# Categorical data encoding\n",
    "from sklearn.preprocessing import LabelEncoder\n",
    "\n",
    "# Train-test split and k-fold cross validation\n",
    "from sklearn.model_selection import train_test_split\n",
    "\n",
    "# Feature selection\n",
    "from sklearn.feature_selection import SelectKBest, chi2, mutual_info_classif\n",
    "\n",
    "\n",
    "# Classification algorithms\n",
    "from sklearn.tree import DecisionTreeClassifier\n",
    "from sklearn.ensemble import RandomForestClassifier, ExtraTreesClassifier\n",
    "\n",
    "# Model evaluation\n",
    "from sklearn import metrics\n",
    "from sklearn.metrics import f1_score\n",
    "from sklearn.metrics import mean_squared_error\n",
    "# Explainable AI\n",
    "!pip install --quiet shap==0.39.0\n",
    "import shap\n",
    "\n",
    "# Warning suppression\n",
    "import warnings\n",
    "warnings.filterwarnings('ignore')\n",
    "import acquire\n",
    "import prepare \n",
    "from functions import split, feature_chi2"
   ]
  },
  {
   "cell_type": "markdown",
   "id": "97e2a1f9",
   "metadata": {},
   "source": [
    "Acquire data from csv and run it through the prep_data function. We prepared the df by:\n",
    "\n",
    "- Fill missing values with the mode of the column\n",
    "- Grouping outliers\n",
    "- Encode Categorical columns\n",
    "- Dropping columns we dont need\n",
    "- Casualty_class is encoded to 1 - 'Driver or rider', 2 - 'Pedestrian', 3 - 'Passenger'\n",
    "\n",
    "After preparing the data we are left with 32 columns and 12,316 rows to explore.\n"
   ]
  },
  {
   "cell_type": "code",
   "execution_count": null,
   "id": "4cef18ff",
   "metadata": {},
   "outputs": [],
   "source": [
    "get = acquire.get_data()"
   ]
  },
  {
   "cell_type": "code",
   "execution_count": null,
   "id": "9915d0bd",
   "metadata": {},
   "outputs": [],
   "source": [
    "df = prepare.prep_data(get)\n",
    "df.head()"
   ]
  },
  {
   "cell_type": "markdown",
   "id": "b3215046",
   "metadata": {},
   "source": [
    "### Explore \n",
    "\n",
    "First we must split the data to train, validate and test by using the Split function."
   ]
  },
  {
   "cell_type": "code",
   "execution_count": null,
   "id": "d98952f3",
   "metadata": {},
   "outputs": [],
   "source": [
    "train, X_train, X_validate, X_test, y_train, y_validate, y_test = split(df, stratify_by='Casualty_class')\n",
    "train.head()"
   ]
  },
  {
   "cell_type": "code",
   "execution_count": null,
   "id": "732ce19f",
   "metadata": {},
   "outputs": [],
   "source": [
    "sns.countplot(x=\"Age_band_of_casualty\", data=train, hue=\"Casualty_class\")\n",
    "plt.title('Age of casualty vs. Class')"
   ]
  },
  {
   "cell_type": "code",
   "execution_count": null,
   "id": "adfa17b2",
   "metadata": {},
   "outputs": [],
   "source": [
    "fig, ax =plt.subplots(1,2,figsize = (15,8))\n",
    "sns.despine(top=True, right=True, left=False, bottom=False)\n",
    "ax1 =sns.countplot(\"Casualty_class\", hue=\"Sex_of_casualty_Male\", \n",
    "              palette=\"magma\", data=train, ax=ax[0])\n",
    "\n",
    "ax2 = sns.countplot(\"Accident_severity\", hue=\"Sex_of_casualty_Male\", \n",
    "              palette=\"magma\", data=train, ax=ax[1])"
   ]
  },
  {
   "cell_type": "code",
   "execution_count": null,
   "id": "f30ef68a",
   "metadata": {},
   "outputs": [],
   "source": [
    "var = [\"Age_band_of_casualty\",\"Area_accident_occured\", \"Light_conditions\"]\n",
    "for v in var:\n",
    "    sns.set(style=\"darkgrid\")\n",
    "    sns.countplot(x=v, data=train)\n",
    "    plt.show()"
   ]
  },
  {
   "cell_type": "markdown",
   "id": "695013e5",
   "metadata": {},
   "source": [
    "From these charts we can answer some of our questions. Generally there are more women in the casualty class, especially in driver or rider. The count for women is also higher for accident severity. I can also see that the highest age range for accidents is 18-30. From the last chart 3, which represents daylight, is where most accidents occure. Office Areas and Other have the highest counts out of locations."
   ]
  },
  {
   "cell_type": "markdown",
   "id": "2fdeec27",
   "metadata": {},
   "source": [
    "## Testing \n",
    "\n",
    "Chi2 test on light conditions and casualty class:\n",
    "\n",
    "\n",
    " - Ho, light conditions effects casualty class\n",
    " - Ha, light conditions do not effect it "
   ]
  },
  {
   "cell_type": "code",
   "execution_count": null,
   "id": "38199338",
   "metadata": {},
   "outputs": [],
   "source": [
    "a=train.Casualty_class\n",
    "b=train.Light_conditions\n",
    "observed = pd.crosstab(a,b)\n",
    "chi2, p, degf, expected = stats.chi2_contingency(observed)\n",
    "alpha = 0.05\n",
    "print(f'chi2 = {chi2:.2f}')\n",
    "print(f'p value: {p:.4f}')\n",
    "if p < alpha:\n",
    "      print('We can reject the null hypothesis')\n",
    "else:\n",
    "    print('We fail to reject the null hypothesis')"
   ]
  },
  {
   "cell_type": "markdown",
   "id": "388e7e98",
   "metadata": {},
   "source": [
    "Chi2 test on driving experiance \n",
    "\n",
    "- Ho, Driving experiance effects casualty class\n",
    "\n",
    "- Ha, Driving experiance does not effect it"
   ]
  },
  {
   "cell_type": "code",
   "execution_count": null,
   "id": "1a65bead",
   "metadata": {},
   "outputs": [],
   "source": [
    "a2=train.Casualty_class\n",
    "b2=train.Driving_experience\n",
    "observed2 = pd.crosstab(a2,b2)\n",
    "chi2, p, degf, expected = stats.chi2_contingency(observed2)\n",
    "alpha = 0.05\n",
    "print(f'chi2 = {chi2:.2f}')\n",
    "print(f'p value: {p:.4f}')\n",
    "if p < alpha:\n",
    "      print('We can reject the null hypothesis')\n",
    "else:\n",
    "    print('We fail to reject the null hypothesis')"
   ]
  },
  {
   "cell_type": "markdown",
   "id": "55aa2a67",
   "metadata": {},
   "source": [
    "One sample T-Test\n",
    "\n",
    "- Ho, the mean age of casualty <= than the mean age of casualties\n",
    "- Ha, the mean age of casualty > than the mean age of casualties"
   ]
  },
  {
   "cell_type": "code",
   "execution_count": null,
   "id": "a4640081",
   "metadata": {},
   "outputs": [],
   "source": [
    "alpha = 0.05\n",
    "churn_sample = train[train.Casualty_class == 1].Age_band_of_casualty\n",
    "overall_mean = train.Age_band_of_casualty.mean()\n",
    "\n",
    "t, p = stats.ttest_1samp(churn_sample, overall_mean)\n",
    "\n",
    "print(t, p/2, alpha)\n",
    "if p/2 > alpha:\n",
    "    print(\"We fail to reject null\")\n",
    "elif t < 0:\n",
    "    print(\"We fail to reject null\")\n",
    "else:\n",
    "    print(\"We reject null\")\n"
   ]
  },
  {
   "cell_type": "markdown",
   "id": "a76e09e0",
   "metadata": {},
   "source": [
    "We tested Age band of casualty, lighting and driving experiance. We failed to reject the null on all of them, so we will move onto Chi-square feature selection.\n",
    "\n",
    "### Feature picking\n",
    "Now We will use feature selection on train and set K to 25 of the best features to use for modeling. I wonder if any of the variables in the questions will be selected."
   ]
  },
  {
   "cell_type": "code",
   "execution_count": null,
   "id": "d955f93e",
   "metadata": {},
   "outputs": [],
   "source": [
    "X_train_fs, X_validate_fs, X_test_fs = feature_chi2(X_train, X_validate, X_test, k = 25)"
   ]
  }
 ],
 "metadata": {
  "kernelspec": {
   "display_name": "Python 3 (ipykernel)",
   "language": "python",
   "name": "python3"
  },
  "language_info": {
   "codemirror_mode": {
    "name": "ipython",
    "version": 3
   },
   "file_extension": ".py",
   "mimetype": "text/x-python",
   "name": "python",
   "nbconvert_exporter": "python",
   "pygments_lexer": "ipython3",
   "version": "3.9.12"
  }
 },
 "nbformat": 4,
 "nbformat_minor": 5
}
